{
 "cells": [
  {
   "cell_type": "code",
   "execution_count": null,
   "id": "37d72fe6",
   "metadata": {},
   "outputs": [],
   "source": [
    "# 2887 행성 터널\n",
    "\n",
    "N = int(input())\n",
    "\n",
    "position = [[]]\n",
    "for _ in range(N):\n",
    "    x, y, z = map(int, input().split())\n",
    "    position.append([x, y, z])\n",
    "\n",
    "tree = []\n",
    "\n",
    "# 각 차원(x, y, z)에 대해\n",
    "for dim in range(3):\n",
    "    # 해당 축에 대해 정렬: (좌표값, 노드번호)\n",
    "    sorted_pos = sorted([(position[i][dim], i) for i in range(1, N+1)])\n",
    "\n",
    "    # 인접한 노드끼리 간선 연결\n",
    "    for i in range(N - 1):\n",
    "        a_idx = sorted_pos[i][1]\n",
    "        b_idx = sorted_pos[i + 1][1]\n",
    "        weight = abs(sorted_pos[i][0] - sorted_pos[i + 1][0])\n",
    "        tree.append([a_idx, b_idx, weight])\n",
    "\n",
    "tree.sort(key = lambda x : x[2])\n",
    "\n",
    "parent = [i for i in range(N+1)]\n",
    "\n",
    "def get_parent(x):\n",
    "    if (parent[x] == x):\n",
    "        return x\n",
    "\n",
    "    parent[x] = get_parent(parent[x])\n",
    "\n",
    "    return parent[x]\n",
    "\n",
    "def union_parent(a, b):\n",
    "    a = get_parent(a)\n",
    "    b = get_parent(b)\n",
    "\n",
    "    if (a < b):\n",
    "        parent[b] = a\n",
    "\n",
    "    else:\n",
    "        parent[a] = b\n",
    "\n",
    "def same_parent(a, b):\n",
    "    return get_parent(a) == get_parent(b)\n",
    "\n",
    "answer = 0\n",
    "for a, b, cost in tree:\n",
    "    if not (same_parent(a, b)):\n",
    "        union_parent(a, b)\n",
    "        answer += cost\n",
    "\n",
    "print(answer)"
   ]
  }
 ],
 "metadata": {
  "kernelspec": {
   "display_name": "base",
   "language": "python",
   "name": "python3"
  },
  "language_info": {
   "codemirror_mode": {
    "name": "ipython",
    "version": 3
   },
   "file_extension": ".py",
   "mimetype": "text/x-python",
   "name": "python",
   "nbconvert_exporter": "python",
   "pygments_lexer": "ipython3",
   "version": "3.12.7"
  }
 },
 "nbformat": 4,
 "nbformat_minor": 5
}
