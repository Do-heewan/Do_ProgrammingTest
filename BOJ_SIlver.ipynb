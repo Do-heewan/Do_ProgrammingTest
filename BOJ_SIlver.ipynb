{
 "cells": [
  {
   "cell_type": "code",
   "execution_count": null,
   "metadata": {},
   "outputs": [
    {
     "name": "stdout",
     "output_type": "stream",
     "text": [
      "v\n",
      "asd\n",
      "qwe\n"
     ]
    }
   ],
   "source": [
    "# 1181 단어 정렬\n",
    "\n",
    "n = int(input())\n",
    "word = []\n",
    "\n",
    "for i in range(n):\n",
    "    word.append(input())\n",
    "\n",
    "set_word = set(word) # 리스트를 집합으로 변환, 중복 제거\n",
    "word = list(set_word) # 집합을 리스트로 변환\n",
    "\n",
    "word.sort()\t# 괄호 안에 아무 값도 넣지 않으면 알파벳 순서대로 정렬을 해 준다.\n",
    "word.sort(key = len) # 문자열 길이 순으로 정렬.\n",
    "\n",
    "for i in word:\n",
    "    print(i)"
   ]
  },
  {
   "cell_type": "code",
   "execution_count": null,
   "metadata": {},
   "outputs": [],
   "source": [
    "# 1181 단어 정렬 (백준 제출용, input() 보다 속도가 훨씬 빠르다.)\n",
    "\n",
    "import sys\n",
    "\n",
    "n = int(sys.stdin.readline())\n",
    "word = []\n",
    "\n",
    "for i in range(n):\n",
    "    word.append(sys.stdin.readline().strip())\n",
    "\n",
    "set_word = set(word) # 리스트를 집합으로 변환, 중복 제거\n",
    "word = list(set_word) # 집합을 리스트로 변환\n",
    "\n",
    "word.sort()\t# 괄호 안에 아무 값도 넣지 않으면 알파벳 순서대로 정렬을 해 준다.\n",
    "word.sort(key = len) # 문자열 길이 순으로 정렬.\n",
    "\n",
    "for i in word:\n",
    "    print(i)"
   ]
  },
  {
   "cell_type": "code",
   "execution_count": null,
   "metadata": {},
   "outputs": [
    {
     "name": "stdout",
     "output_type": "stream",
     "text": [
      "2666\n"
     ]
    }
   ],
   "source": [
    "# 1436 영화감독 슘\n",
    "\n",
    "n = int(input())\n",
    "\n",
    "count = 0\n",
    "num = 666\n",
    "\n",
    "while True:\n",
    "    if (\"666\" in str(num)):\n",
    "        count += 1\n",
    "\n",
    "    if (count == n):\n",
    "        break\n",
    "\n",
    "    num += 1\n",
    "\n",
    "print(num)"
   ]
  },
  {
   "cell_type": "code",
   "execution_count": 9,
   "metadata": {},
   "outputs": [
    {
     "name": "stdout",
     "output_type": "stream",
     "text": [
      "1\n",
      "2\n",
      "2\n",
      "3\n",
      "3\n",
      "4\n",
      "5\n",
      "5\n",
      "7\n",
      "7\n"
     ]
    }
   ],
   "source": [
    "# 2751 수 정렬하기 2\n",
    "\n",
    "n = int(input())\n",
    "\n",
    "lst = []\n",
    "for i in range(n):\n",
    "    num = int(input())\n",
    "    lst.append(num)\n",
    "\n",
    "lst.sort()\n",
    "\n",
    "for i in lst:\n",
    "    print(i)"
   ]
  },
  {
   "cell_type": "code",
   "execution_count": null,
   "metadata": {},
   "outputs": [],
   "source": [
    "# 2751 수 정렬하기 2 (백준 제출)\n",
    "\n",
    "import sys\n",
    "\n",
    "n = int(sys.stdin.readline())\n",
    "\n",
    "lst = []\n",
    "for i in range(n):\n",
    "    num = int(sys.stdin.readline().strip())\n",
    "    lst.append(num)\n",
    "\n",
    "lst.sort()\n",
    "\n",
    "for i in lst:\n",
    "    print(i)"
   ]
  },
  {
   "cell_type": "code",
   "execution_count": 2,
   "metadata": {},
   "outputs": [
    {
     "ename": "ValueError",
     "evalue": "invalid literal for int() with base 10: ''",
     "output_type": "error",
     "traceback": [
      "\u001b[1;31m---------------------------------------------------------------------------\u001b[0m",
      "\u001b[1;31mValueError\u001b[0m                                Traceback (most recent call last)",
      "Cell \u001b[1;32mIn[2], line 3\u001b[0m\n\u001b[0;32m      1\u001b[0m \u001b[38;5;66;03m# 10814 나이순 정렬\u001b[39;00m\n\u001b[1;32m----> 3\u001b[0m n \u001b[38;5;241m=\u001b[39m \u001b[38;5;28mint\u001b[39m(\u001b[38;5;28minput\u001b[39m())\n\u001b[0;32m      5\u001b[0m lst \u001b[38;5;241m=\u001b[39m []\n\u001b[0;32m      6\u001b[0m \u001b[38;5;28;01mfor\u001b[39;00m i \u001b[38;5;129;01min\u001b[39;00m \u001b[38;5;28mrange\u001b[39m(n):\n",
      "\u001b[1;31mValueError\u001b[0m: invalid literal for int() with base 10: ''"
     ]
    }
   ],
   "source": [
    "# 10814 나이순 정렬\n",
    "\n",
    "n = int(input())\n",
    "\n",
    "lst = []\n",
    "for i in range(n):\n",
    "    age, name = input().split()\n",
    "    lst.append([age, name])\n",
    "\n",
    "lst.sort(key = lambda x : int(x[0]))\n",
    "\n",
    "for i in lst:\n",
    "    print(i[0], i[1])"
   ]
  },
  {
   "cell_type": "code",
   "execution_count": null,
   "metadata": {},
   "outputs": [],
   "source": [
    "# 10814 나이순 정렬 (백준 제출)\n",
    "\n",
    "import sys\n",
    "\n",
    "n = int(sys.stdin.readline())\n",
    "\n",
    "lst = []\n",
    "for i in range(n):\n",
    "    [age, name] = sys.stdin.readline().split()\n",
    "    lst.append([age, name])\n",
    "\n",
    "lst.sort(key = lambda x : int(x[0]))\n",
    "\n",
    "for i in lst:\n",
    "    print(i[0], i[1])"
   ]
  },
  {
   "cell_type": "code",
   "execution_count": null,
   "metadata": {},
   "outputs": [
    {
     "ename": "TypeError",
     "evalue": "'>' not supported between instances of 'list' and 'int'",
     "output_type": "error",
     "traceback": [
      "\u001b[1;31m---------------------------------------------------------------------------\u001b[0m",
      "\u001b[1;31mTypeError\u001b[0m                                 Traceback (most recent call last)",
      "Cell \u001b[1;32mIn[14], line 11\u001b[0m\n\u001b[0;32m      7\u001b[0m     num \u001b[38;5;241m=\u001b[39m \u001b[38;5;28mint\u001b[39m(\u001b[38;5;28minput\u001b[39m())\n\u001b[0;32m      8\u001b[0m     count[num] \u001b[38;5;241m+\u001b[39m\u001b[38;5;241m=\u001b[39m \u001b[38;5;241m1\u001b[39m\n\u001b[1;32m---> 11\u001b[0m \u001b[38;5;28;01mif\u001b[39;00m (count \u001b[38;5;241m>\u001b[39m \u001b[38;5;241m0\u001b[39m):\n\u001b[0;32m     12\u001b[0m     \u001b[38;5;28;01mfor\u001b[39;00m j \u001b[38;5;129;01min\u001b[39;00m \u001b[38;5;28mrange\u001b[39m(\u001b[38;5;28mlen\u001b[39m(count)):\n\u001b[0;32m     13\u001b[0m         \u001b[38;5;28mprint\u001b[39m(j)\n",
      "\u001b[1;31mTypeError\u001b[0m: '>' not supported between instances of 'list' and 'int'"
     ]
    }
   ],
   "source": [
    "# 10989 수 정렬하기 3\n",
    "\n",
    "import sys\n",
    "\n",
    "n = int(sys.stdin.readline().rstrip())\n",
    "\n",
    "count = [0] * 10001 # 0 ~ 10000 까지의 인덱스 번호를 가지는 배열\n",
    "for i in range(n):\n",
    "    num = int(sys.stdin.readline().rstrip())\n",
    "    count[num] += 1 # 입력 받은 숫자에 해당하는 인덱스를 증가시킴\n",
    "\n",
    "for j in range(len(count)):\n",
    "    if (count[j] > 0): # 앞서 입력 받은 인덱스만 추림\n",
    "        for k in range(count[j]): # 몇 번 출력할 것인가\n",
    "            print(j)"
   ]
  },
  {
   "cell_type": "code",
   "execution_count": null,
   "metadata": {},
   "outputs": [],
   "source": [
    "# 1676 팩토리얼 0의 갯수\n",
    "\n",
    "n = int(input())\n",
    "cnt = 0\n",
    "\n",
    "while(n > 1):\n",
    "    cnt += n // 5\n",
    "    n = n // 5\n",
    "\n",
    "print(cnt)"
   ]
  },
  {
   "cell_type": "code",
   "execution_count": 12,
   "metadata": {},
   "outputs": [
    {
     "name": "stdout",
     "output_type": "stream",
     "text": [
      "1 -1\n",
      "1 1\n",
      "2 1\n",
      "2 3\n",
      "4 5\n"
     ]
    }
   ],
   "source": [
    "# 11650 좌표 정렬하기\n",
    "\n",
    "n = int(input())\n",
    "\n",
    "li = []\n",
    "for i in range(n):\n",
    "    [h, w] = input().split()\n",
    "    li.append([h, w])\n",
    "\n",
    "li.sort(key = lambda x : (int(x[0]), int(x[1])))\n",
    "\n",
    "for j in li:\n",
    "    print(j[0], j[1])"
   ]
  },
  {
   "cell_type": "code",
   "execution_count": null,
   "metadata": {},
   "outputs": [],
   "source": [
    "import sys\n",
    "\n",
    "n = int(sys.stdin.readline().rstrip())\n",
    "\n",
    "lst = []\n",
    "for i in range(n):\n",
    "    [height, weight] = sys.stdin.readline().split()\n",
    "    lst.append([height, weight])\n",
    "\n",
    "lst.sort(key = lambda x : (int(x[0]), int(x[1])))\n",
    "\n",
    "for j in lst:\n",
    "    print(j[0], j[1])"
   ]
  },
  {
   "cell_type": "code",
   "execution_count": 13,
   "metadata": {},
   "outputs": [
    {
     "name": "stdout",
     "output_type": "stream",
     "text": [
      "1 -1\n",
      "1 2\n",
      "2 2\n",
      "3 3\n",
      "0 4\n"
     ]
    }
   ],
   "source": [
    "# 11651 좌표 정렬하기 2\n",
    "\n",
    "n = int(input())\n",
    "\n",
    "li = []\n",
    "for i in range(n):\n",
    "    [h, w] = input().split()\n",
    "    li.append([h, w])\n",
    "\n",
    "li.sort(key = lambda x : (int(x[1]), int(x[0])))\n",
    "\n",
    "for j in li:\n",
    "    print(j[0], j[1])"
   ]
  },
  {
   "cell_type": "code",
   "execution_count": null,
   "metadata": {},
   "outputs": [],
   "source": [
    "import sys\n",
    "\n",
    "n = int(sys.stdin.readline().rstrip())\n",
    "\n",
    "lst = []\n",
    "for i in range(n):\n",
    "    [height, weight] = sys.stdin.readline().split()\n",
    "    lst.append([height, weight])\n",
    "\n",
    "lst.sort(key = lambda x : (int(x[1]), int(x[0])))\n",
    "\n",
    "for j in lst:\n",
    "    print(j[0], j[1])"
   ]
  },
  {
   "cell_type": "code",
   "execution_count": null,
   "metadata": {},
   "outputs": [],
   "source": [
    "# 11723 집합\n",
    "# Cursor AI\n",
    "\n",
    "import sys\n",
    "input = sys.stdin.readline\n",
    "\n",
    "n = int(input())\n",
    "s = set()\n",
    "\n",
    "for _ in range(n):\n",
    "    cmd = input().strip().split()\n",
    "    \n",
    "    if len(cmd) == 1:  # all 또는 empty 명령어\n",
    "        if cmd[0] == \"all\":\n",
    "            s = set(range(1, 21))\n",
    "        else:  # empty\n",
    "            s = set()\n",
    "        continue\n",
    "        \n",
    "    op, x = cmd[0], int(cmd[1])  # 명령어와 숫자를 분리\n",
    "    \n",
    "    if op == \"add\":\n",
    "        s.add(x)\n",
    "    elif op == \"remove\":\n",
    "        s.discard(x)\n",
    "    elif op == \"check\":\n",
    "        print(1 if x in s else 0)\n",
    "    elif op == \"toggle\":\n",
    "        if x in s:\n",
    "            s.discard(x)\n",
    "        else:\n",
    "            s.add(x)"
   ]
  },
  {
   "cell_type": "code",
   "execution_count": null,
   "metadata": {},
   "outputs": [
    {
     "name": "stdout",
     "output_type": "stream",
     "text": [
      "2\n",
      "ba\n",
      "oh\n"
     ]
    }
   ],
   "source": [
    "# 1764 듣보잡\n",
    "\n",
    "import sys\n",
    "\n",
    "n, m = map(int, (sys.stdin.readline().split()))\n",
    "\n",
    "# set 생성\n",
    "n_list = set()\n",
    "m_list = set()\n",
    "\n",
    "for i in range(n):\n",
    "    name1 = sys.stdin.readline().rstrip()\n",
    "    n_list.add(name1)\n",
    "for j in range(m):\n",
    "    name2 = sys.stdin.readline().rstrip()\n",
    "    m_list.add(name2)\n",
    "\n",
    "sum_list = n_list & m_list # 교집합\n",
    "print(len(sum_list))\n",
    "\n",
    "sum_list = list(sum_list) # 리스트 변환 후 정렬\n",
    "sum_list.sort()\n",
    "for k in sum_list: # 원소 출력\n",
    "    print(k)"
   ]
  },
  {
   "cell_type": "code",
   "execution_count": null,
   "metadata": {},
   "outputs": [
    {
     "name": "stdout",
     "output_type": "stream",
     "text": [
      "2 1\n",
      "3 1\n",
      "4 2\n",
      "5 3\n",
      "6 2\n",
      "7 3\n",
      "8 3\n",
      "9 2\n",
      "10 3\n",
      "3\n"
     ]
    }
   ],
   "source": [
    "# 1463 1로 만들기\n",
    "\n",
    "n = int(input())\n",
    "\n",
    "d = [0] * (n + 1) # 입력 수의 크기 리스트 생성\n",
    "for i in range(2, n + 1):\n",
    "    d[i] = d[i - 1] + 1 # 1을 뺀 경우\n",
    "    if i % 3 == 0:\n",
    "        d[i] = min(d[i], d[i // 3] + 1) # 3으로 나누었을 때와 1을 뺏을 때의 연산 횟수 비교\n",
    "    if i % 2 == 0:\n",
    "        d[i] = min(d[i], d[i // 2] + 1) # 2로 나누었을 때와 1을 뺏을 때의 연산 횟수 비교\n",
    "\n",
    "print(d[n])"
   ]
  },
  {
   "cell_type": "code",
   "execution_count": null,
   "metadata": {},
   "outputs": [
    {
     "name": "stdout",
     "output_type": "stream",
     "text": [
      "1\n",
      "2\n",
      "4\n",
      "7\n",
      "13\n",
      "24\n",
      "44\n",
      "81\n",
      "149\n",
      "274\n"
     ]
    }
   ],
   "source": [
    "# 9095 1, 2, 3 더하기\n",
    "\n",
    "n = int(input())\n",
    "\n",
    "for T in range(n):\n",
    "    n, i = int(input()), 4\n",
    "    plus = [None, 1, 2, 4]\n",
    "\n",
    "    while i <= n:\n",
    "        plus.append(plus[i - 1] + plus[i - 2] + plus[i - 3]) # 리스트의 이전 인덱스들의 합\n",
    "        i += 1\n",
    "\n",
    "    print(plus[n])"
   ]
  },
  {
   "cell_type": "code",
   "execution_count": null,
   "metadata": {},
   "outputs": [
    {
     "ename": "ValueError",
     "evalue": "invalid literal for int() with base 10: ''",
     "output_type": "error",
     "traceback": [
      "\u001b[1;31m---------------------------------------------------------------------------\u001b[0m",
      "\u001b[1;31mValueError\u001b[0m                                Traceback (most recent call last)",
      "Cell \u001b[1;32mIn[8], line 3\u001b[0m\n\u001b[0;32m      1\u001b[0m \u001b[38;5;66;03m# 11399 ATM\u001b[39;00m\n\u001b[1;32m----> 3\u001b[0m n \u001b[38;5;241m=\u001b[39m \u001b[38;5;28mint\u001b[39m(\u001b[38;5;28minput\u001b[39m())\n\u001b[0;32m      4\u001b[0m p_time \u001b[38;5;241m=\u001b[39m \u001b[38;5;28mlist\u001b[39m(\u001b[38;5;28mmap\u001b[39m(\u001b[38;5;28mint\u001b[39m, (\u001b[38;5;28minput\u001b[39m()\u001b[38;5;241m.\u001b[39msplit())))\n\u001b[0;32m      6\u001b[0m p_time\u001b[38;5;241m.\u001b[39msort()\n",
      "\u001b[1;31mValueError\u001b[0m: invalid literal for int() with base 10: ''"
     ]
    }
   ],
   "source": [
    "# 11399 ATM\n",
    "\n",
    "n = int(input())\n",
    "p_time = list(map(int, (input().split())))\n",
    "\n",
    "p_time.sort()\n",
    "\n",
    "time = 0\n",
    "for i in range(len(p_time)):\n",
    "    for j in range(i+1):\n",
    "        time += p_time[j]\n",
    "\n",
    "print(time)"
   ]
  },
  {
   "cell_type": "code",
   "execution_count": null,
   "metadata": {},
   "outputs": [],
   "source": [
    "# 11399 ATM\n",
    "\n",
    "import sys\n",
    "\n",
    "n = sys.stdin.readline()\n",
    "p_time = list(map(int, (sys.stdin.readline().split())))\n",
    "\n",
    "p_time.sort()\n",
    "\n",
    "time = 0\n",
    "for i in range(len(p_time)):\n",
    "    for j in range(i+1):\n",
    "        time += p_time[j]\n",
    "\n",
    "print(time)"
   ]
  },
  {
   "cell_type": "code",
   "execution_count": null,
   "metadata": {},
   "outputs": [
    {
     "name": "stdout",
     "output_type": "stream",
     "text": [
      "5 8\n",
      "10946 17711\n"
     ]
    }
   ],
   "source": [
    "# 1003 피보나치 함수\n",
    "\n",
    "n = int(input())\n",
    "\n",
    "for i in range(n):\n",
    "    num = int(input())\n",
    "    a, b = 1, 0\n",
    "    for j in range(num):\n",
    "        a, b = b, a+b\n",
    "    print(a, b)"
   ]
  },
  {
   "cell_type": "code",
   "execution_count": null,
   "metadata": {},
   "outputs": [
    {
     "name": "stdout",
     "output_type": "stream",
     "text": [
      "12\n",
      "9\n",
      "1\n"
     ]
    }
   ],
   "source": [
    "# 11659 구간 합 구하기 4\n",
    "\n",
    "import sys\n",
    "input = sys.stdin.readline\n",
    "\n",
    "n, m = map(int, input().split())\n",
    "\n",
    "num_list = list(map(int, input().split()))\n",
    "\n",
    "sum = 0\n",
    "sum_list = [0]\n",
    "for num in num_list:\n",
    "    sum += num\n",
    "    sum_list.append(sum)\n",
    "\n",
    "for _ in range(m):\n",
    "    x, y = map(int, input().split())\n",
    "    print(sum_list[y] - sum_list[x-1])"
   ]
  },
  {
   "cell_type": "code",
   "execution_count": 7,
   "metadata": {},
   "outputs": [
    {
     "name": "stdout",
     "output_type": "stream",
     "text": [
      "NO\n",
      "NO\n",
      "NO\n"
     ]
    }
   ],
   "source": [
    "# 9012 괄호\n",
    "\n",
    "n = int(input())\n",
    "\n",
    "\n",
    "for i in range(n):\n",
    "    word = list(input())\n",
    "    count = 0\n",
    "\n",
    "    for j in range(len(word)):\n",
    "        if (word[j] == ('(')):\n",
    "            count += 1\n",
    "        else:\n",
    "            count -= 1\n",
    "\n",
    "        if (count < 0):\n",
    "            print(\"NO\")\n",
    "            break\n",
    "\n",
    "    if (count > 0):\n",
    "        print(\"NO\")\n",
    "    elif (count == 0):\n",
    "        print(\"YES\")\n"
   ]
  },
  {
   "cell_type": "code",
   "execution_count": 4,
   "metadata": {},
   "outputs": [
    {
     "name": "stdout",
     "output_type": "stream",
     "text": [
      "4\n"
     ]
    }
   ],
   "source": [
    "# 2606 바이러스 (DFS)\n",
    "\n",
    "n = int(input()) # 노드 갯수(컴퓨터)\n",
    "v = int(input()) # 엣지 갯수(연결 선)\n",
    "\n",
    "graph = [[] for i in range(n+1)] # 그래프 초기화\n",
    "visited = [0] * (n+1) # 방문한 컴퓨터인지 표시\n",
    "\n",
    "for i in range(v):\n",
    "    a, b = map(int, input().split())\n",
    "    graph[a] += [b] # a에 b 연결\n",
    "    graph[b] += [a] # b에 a 연결 -> 양방향\n",
    "\n",
    "def dfs(num):\n",
    "    visited[num] = 1\n",
    "    \n",
    "    for nx in graph[num]:\n",
    "        if (visited[nx] == 0):\n",
    "            dfs(nx)\n",
    "dfs(1)\n",
    "print(sum(visited) - 1)"
   ]
  },
  {
   "cell_type": "code",
   "execution_count": null,
   "metadata": {},
   "outputs": [
    {
     "name": "stdout",
     "output_type": "stream",
     "text": [
      "[[], [2, 5], [1, 3, 5], [2], [7], [1, 2, 6], [5], [4]]\n",
      "deque([])\n",
      "[0, 1, 1, 1, 0, 1, 1, 0]\n"
     ]
    }
   ],
   "source": [
    "# 2606 바이러스 (BFS)\n",
    "\n",
    "from collections import deque\n",
    "\n",
    "n = int(input()) # 노드 갯수(컴퓨터)\n",
    "v = int(input()) # 엣지 갯수(연결 선)\n",
    "\n",
    "graph = [[] for i in range(n+1)] # 그래프 초기화\n",
    "visited = [0] * (n+1) # 방문한 컴퓨터인지 표시\n",
    "\n",
    "for i in range(v):\n",
    "    a, b = map(int, input().split())\n",
    "    graph[a] += [b] # a에 b 연결\n",
    "    graph[b] += [a] # b에 a 연결 -> 양방향\n",
    "\n",
    "visited[1] = 1 # 1번부터 시작이기에 1번 표시\n",
    "Q = deque([1])\n",
    "while Q:\n",
    "    c = Q.popleft()\n",
    "    \n",
    "    for nx in graph[c]:\n",
    "        if (visited[nx] == 0):\n",
    "            Q.append(nx)\n",
    "            visited[nx] = 1\n",
    "\n",
    "print(sum(visited) - 1)"
   ]
  },
  {
   "cell_type": "code",
   "execution_count": 5,
   "metadata": {},
   "outputs": [
    {
     "name": "stdout",
     "output_type": "stream",
     "text": [
      "55\n"
     ]
    }
   ],
   "source": [
    "# 11726 2xn 타일링\n",
    "\n",
    "n = int(input())\n",
    "li = [0] * 1001\n",
    "li[1] = 1\n",
    "li[2] = 2\n",
    "\n",
    "for i in range(3, n+1):\n",
    "    li[i] = (li[i-1] + li[i-2]) % 10007\n",
    "\n",
    "print(li[n])"
   ]
  },
  {
   "cell_type": "code",
   "execution_count": null,
   "metadata": {},
   "outputs": [],
   "source": [
    "import sys\n",
    "input = sys.stdin.readline"
   ]
  },
  {
   "cell_type": "code",
   "execution_count": 13,
   "metadata": {},
   "outputs": [
    {
     "name": "stdout",
     "output_type": "stream",
     "text": [
      "1\n"
     ]
    }
   ],
   "source": [
    "# 1012 유기농 배추\n",
    "\n",
    "from collections import deque\n",
    "\n",
    "# 다음 위치 이동을 위한\n",
    "dx = [-1, 1, 0, 0]\n",
    "dy = [0, 0, -1, 1]\n",
    "\n",
    "T = int(input())\n",
    "\n",
    "for _ in range(T):\n",
    "    M, N, K = map(int, input().split())\n",
    "    li = [[0] * M for _ in range(N)] # 배추 밭 생성성\n",
    "\n",
    "    for _ in range(K):\n",
    "        x, y = map(int, input().split())\n",
    "        li[y][x] = 1 # 배추의 위치 표시시\n",
    "\n",
    "    visited = [[0] * M for _ in range(N)] # 방문 노드 생성\n",
    "    bug = 0 # 벌레의 수\n",
    "    for x in range(N):\n",
    "        for y in range(M):\n",
    "            if (li[x][y] == 1) and (visited[x][y] == 0):\n",
    "                Q = deque() # 큐 생성\n",
    "                Q.append((x, y)) # 현재위치 저장장\n",
    "                \n",
    "                while Q: # 큐가 빌 때 까지\n",
    "                    cx, cy = Q.popleft() # 큐에 저장된 위치치\n",
    "\n",
    "                    for i in range(4): # 좌, 우, 하, 상 순서로 탐색색\n",
    "                        n_x = cx + dx[i]\n",
    "                        n_y = cy + dy[i]\n",
    "\n",
    "                        if (0 <= n_x < N) and (0 <= n_y < M) and (li[n_x][n_y] == 1) and (visited[n_x][n_y] == 0): # next x, y가 배추가 심어져 있고, 방문하지 않은 위치인 경우\n",
    "                            visited[n_x][n_y] = 1\n",
    "                            Q.append((n_x, n_y)) # 큐에 추가하여 탐색을 이어 나간다.\n",
    "\n",
    "                bug += 1\n",
    "\n",
    "    print(bug)"
   ]
  },
  {
   "cell_type": "code",
   "execution_count": null,
   "metadata": {},
   "outputs": [],
   "source": [
    "# 1927 최소 힙\n",
    "\n",
    "import heapq\n",
    "import sys\n",
    "\n",
    "input = sys.stdin.readline\n",
    "\n",
    "N = int(input())\n",
    "\n",
    "li = []\n",
    "for _ in range(N):\n",
    "    num = int(input())\n",
    "\n",
    "    if (num == 0): # 힙 내 최솟값 출력\n",
    "        if (len(li) == 0):\n",
    "            li.append(0)\n",
    "        \n",
    "        # 힙의 형태를 유지하면서 pop\n",
    "        print(heapq.heappop(li))\n",
    "        \n",
    "    else: # 힙의 형태를 유지하면서 push\n",
    "        heapq.heappush(li, num)"
   ]
  },
  {
   "cell_type": "code",
   "execution_count": 7,
   "metadata": {},
   "outputs": [
    {
     "name": "stdout",
     "output_type": "stream",
     "text": [
      "2\n"
     ]
    }
   ],
   "source": [
    "# 11724  연결 요소의 개수 (BFS)\n",
    "\n",
    "from collections import deque\n",
    "import sys\n",
    "\n",
    "input = sys.stdin.readline\n",
    "\n",
    "N, M = map(int, input().split())\n",
    "\n",
    "graph = [[] for _ in range(N+1)] # 그래프 초기화\n",
    "visited = [False] * (N+1) # 방문 여부\n",
    "count = 0 # 트리 탐색\n",
    "\n",
    "for _ in range(M):\n",
    "    a, b = map(int, input().split())\n",
    "    graph[a] += [b] # a에 b 연결\n",
    "    graph[b] += [a] # b에 a 연결 -> 양방향\n",
    "\n",
    "# 넓이 우선 탐색\n",
    "def bfs(start_v, visited):\n",
    "    Q = deque([start_v])\n",
    "\n",
    "    while Q:\n",
    "        c = Q.popleft()\n",
    "\n",
    "        for nx in graph[c]:\n",
    "            if not (visited[nx]):\n",
    "                visited[nx] = True\n",
    "                Q.append(nx)\n",
    "\n",
    "    return 1 # 트리 탐색을 마치면 1을 반환\n",
    "\n",
    "for i in range(1, N+1):\n",
    "    if not (visited[i]):\n",
    "        count += bfs(i, visited)\n",
    "\n",
    "print(count)"
   ]
  },
  {
   "cell_type": "code",
   "execution_count": 8,
   "metadata": {},
   "outputs": [
    {
     "name": "stdout",
     "output_type": "stream",
     "text": [
      "2\n"
     ]
    }
   ],
   "source": [
    "# 11724  연결 요소의 개수 (DFS)\n",
    "\n",
    "import sys\n",
    "sys.setrecursionlimit(100000)\n",
    "\n",
    "input = sys.stdin.readline\n",
    "\n",
    "N, M = map(int, input().split())\n",
    "\n",
    "graph = [[] for _ in range(N+1)] # 그래프 초기화\n",
    "visited = [False] * (N+1) # 방문 여부\n",
    "count = 0 # 트리 탐색\n",
    "\n",
    "for _ in range(M):\n",
    "    a, b = map(int, input().split())\n",
    "    graph[a] += [b] # a에 b 연결\n",
    "    graph[b] += [a] # b에 a 연결 -> 양방향\n",
    "\n",
    "# 깊이 우선 탐색(재귀 함수)\n",
    "def dfs(start_v, visited):\n",
    "    visited[start_v] = True\n",
    "\n",
    "    for nx in graph[start_v]:\n",
    "        if not (visited[nx]):\n",
    "            dfs(nx, visited)\n",
    "\n",
    "    return 1 # 트리 탐색을 마치면 1을 반환\n",
    "\n",
    "for i in range(1, N+1):\n",
    "    if not (visited[i]):\n",
    "        count += dfs(i, visited)\n",
    "\n",
    "print(count)"
   ]
  },
  {
   "cell_type": "code",
   "execution_count": null,
   "metadata": {},
   "outputs": [
    {
     "name": "stdout",
     "output_type": "stream",
     "text": [
      "7\n",
      "9\n"
     ]
    }
   ],
   "source": [
    "# 2630 색종이 만들기\n",
    "\n",
    "N = int(input())\n",
    "\n",
    "mat = []\n",
    "for _ in range(N):\n",
    "    element = list(map(int, input().split()))\n",
    "    mat.append(element)\n",
    "\n",
    "blue = 0\n",
    "white = 0\n",
    "\n",
    "def check(x, y, n):\n",
    "    global blue\n",
    "    global white\n",
    "    ch = mat[x][y] # 현재 위치의 색깔\n",
    "\n",
    "    for i in range(x, x+n):\n",
    "        for j in range(y, y+n):\n",
    "\n",
    "            if (ch != mat[i][j]): # 처음의 색과 달라지면 1/4 등분\n",
    "                check(x, y, n//2)\n",
    "                check(x + n//2, y, n//2)\n",
    "                check(x, y + n//2, n//2)\n",
    "                check(x + n//2, y + n//2, n//2)\n",
    "                return # 리턴을 통해 함수를 종료\n",
    "            \n",
    "    if (ch == 1):\n",
    "        blue += 1\n",
    "    else:\n",
    "        white += 1\n",
    "\n",
    "check(0, 0, N)\n",
    "print(white)\n",
    "print(blue)"
   ]
  },
  {
   "cell_type": "code",
   "execution_count": null,
   "metadata": {},
   "outputs": [],
   "source": [
    "import sys\n",
    "\n",
    "input = sys.stdin.readline"
   ]
  },
  {
   "cell_type": "code",
   "execution_count": 1,
   "metadata": {},
   "outputs": [
    {
     "name": "stdout",
     "output_type": "stream",
     "text": [
      "15\n"
     ]
    }
   ],
   "source": [
    "# 2905 나무 자르기\n",
    "\n",
    "N, M = map(int, input().split())\n",
    "tree = list(map(int, input().split()))\n",
    "\n",
    "m_tree = max(tree)\n",
    "result = [0] * (N)\n",
    "while(1):\n",
    "    for i in range(len(tree)):\n",
    "        result[i] = max(tree[i] - m_tree, 0)\n",
    "    \n",
    "    if (sum(result) >= M):\n",
    "        break\n",
    "\n",
    "    m_tree -= 1\n",
    "\n",
    "print(m_tree)"
   ]
  },
  {
   "cell_type": "code",
   "execution_count": 17,
   "metadata": {},
   "outputs": [
    {
     "name": "stdout",
     "output_type": "stream",
     "text": [
      "15\n"
     ]
    }
   ],
   "source": [
    "# 2905 나무 자르기\n",
    "\n",
    "N, M = map(int, input().split())\n",
    "tree = list(map(int, input().split()))\n",
    "start, end = 1, max(tree)\n",
    "\n",
    "# 이분 탐색\n",
    "while (start <= end):\n",
    "    mid = (start + end) // 2\n",
    "\n",
    "    # 현재 얻은 나무의 길이\n",
    "    wood = 0\n",
    "    for i in tree:\n",
    "        if (i > mid): # 나무의 길이가 중앙값보다 크다면\n",
    "            wood += (i - mid) # 나무를 잘라 냄\n",
    "\n",
    "    if (wood >= M): # 처음 설정한 중앙값 기준으로 얻은 나무의 길이가 원하는 길이보다 길다면면\n",
    "        start = mid + 1 # 시작점을 조절하여 중앙값을 다시 조절하도록 함\n",
    "    else: # 아닐경우\n",
    "        end = mid - 1 # 끝점을 조절하여 중앙값을 다시 조절하도록 함\n",
    "\n",
    "print(end) # while문 종료 후 end 값이 최대 나무의 길이가 된다."
   ]
  },
  {
   "cell_type": "code",
   "execution_count": null,
   "metadata": {},
   "outputs": [],
   "source": [
    "# 2776 암기왕\n",
    "\n",
    "import sys\n",
    "\n",
    "input = sys.stdin.readline\n",
    "T = int(input())\n",
    "\n",
    "# 탐색 메소드\n",
    "def search(num, li, e):\n",
    "    start, end = 0, e-1 # 시작값, 끝값 설정\n",
    "    \n",
    "    while (start <= end):\n",
    "        mid = (start + end) // 2 # 이진 탐색을 위한 중앙값\n",
    "        if (num == li[mid]): # 일치하는 경우\n",
    "            print(1)\n",
    "            break\n",
    "        else: # 일치하지 않은 경우, case에 따라 시작값, 끝값을 조정\n",
    "            if (num > li[mid]):\n",
    "                start = mid + 1\n",
    "            else:\n",
    "                end = mid - 1\n",
    "        \n",
    "        # 시작값 또는 끝값이 중앙값과 같다 -> 탐색을 끝까지 진행하였다.\n",
    "        if (start == mid) or (end == mid):\n",
    "            print(0)\n",
    "            break\n",
    "\n",
    "for _ in range(T):\n",
    "    # 정답 리스트\n",
    "    n = int(input())\n",
    "    n_list = list(map(int, input().split()))\n",
    "\n",
    "    # 답안지 리스트\n",
    "    m = int(input())\n",
    "    m_list = list(map(int, input().split()))\n",
    "\n",
    "    n_list.sort()\n",
    "\n",
    "    for ix in m_list: # 답안지 리스트 탐색\n",
    "        search(ix, n_list, n)"
   ]
  },
  {
   "cell_type": "code",
   "execution_count": null,
   "metadata": {},
   "outputs": [],
   "source": [
    "import sys\n",
    "\n",
    "input = sys.stdin.readline"
   ]
  },
  {
   "cell_type": "code",
   "execution_count": 13,
   "metadata": {},
   "outputs": [
    {
     "name": "stdout",
     "output_type": "stream",
     "text": [
      "200\n"
     ]
    }
   ],
   "source": [
    "# 1654 랜선 자르기\n",
    "\n",
    "K, N = map(int, input().split())\n",
    "\n",
    "rope = [] # 랜선의 길이 저장\n",
    "for _ in range(K):\n",
    "    length = int(input())\n",
    "    rope.append(length)\n",
    "\n",
    "start, end = 1, max(rope)\n",
    "\n",
    "while (start <= end):\n",
    "    mid = (start + end) // 2\n",
    "\n",
    "    num_rope = [] # 자른 후의 랜선의 개수 저장\n",
    "    for i in rope:\n",
    "        num_rope.append(i // mid)\n",
    "        \n",
    "    if (sum(num_rope) < N): # 랜선의 개수가 필요 랜선의 개수보다 작을 경우\n",
    "        end = mid - 1 # mid값을 조정하여 더 잘개 자르도록 조정\n",
    "    elif (sum(num_rope) >= N): # 랜선의 개수가 필요 랜선의 개수보다 클 경우\n",
    "        start = mid + 1 # mid값을 조정하여 덜 잘개 자르도록 조정\n",
    "\n",
    "print(end) # start값이 end값보다 커질 때, while문이 종료되고 이때의 end값이 최대 길이가 된다."
   ]
  },
  {
   "cell_type": "code",
   "execution_count": 32,
   "metadata": {},
   "outputs": [
    {
     "name": "stdout",
     "output_type": "stream",
     "text": [
      "3\n",
      "2\n",
      "4\n",
      "2\n",
      "0\n"
     ]
    }
   ],
   "source": [
    "# 11663 선분 위의 점 (메모리초과)\n",
    "\n",
    "N, M = map(int, input().split())\n",
    "\n",
    "point = list(map(int, input().split()))\n",
    "point.sort()\n",
    "\n",
    "def search(num, start, end):\n",
    "    global count\n",
    "    lst = [i for i in range(end+1)]\n",
    "\n",
    "    while (start <= end):\n",
    "        mid = (start + end) // 2\n",
    "\n",
    "        if (num == lst[mid]):\n",
    "            count += 1\n",
    "            break\n",
    "        \n",
    "        else:\n",
    "            if (num < lst[mid]):\n",
    "                end = mid - 1\n",
    "            else:\n",
    "                start = mid + 1\n",
    "        \n",
    "        if (start == mid) or (end == mid):\n",
    "            break\n",
    "\n",
    "for _ in range(M):\n",
    "    a, b = map(int, input().split())\n",
    "    \n",
    "    count = 0\n",
    "    for ix in point:\n",
    "        search(ix, a, b)\n",
    "    print(count)"
   ]
  },
  {
   "cell_type": "code",
   "execution_count": null,
   "metadata": {},
   "outputs": [],
   "source": [
    "import sys\n",
    "\n",
    "input = sys.stdin.readline"
   ]
  },
  {
   "cell_type": "code",
   "execution_count": 34,
   "metadata": {},
   "outputs": [
    {
     "name": "stdout",
     "output_type": "stream",
     "text": [
      "5\n"
     ]
    }
   ],
   "source": [
    "# 11663 선분 위의 점\n",
    "\n",
    "N, M = map(int, input().split())\n",
    "\n",
    "point = list(map(int, input().split()))\n",
    "point.sort()\n",
    "\n",
    "def dot_min(a):  # 선분 중 가장 작은 점 구하기 \n",
    "    start = 0\n",
    "    end = N - 1\n",
    "\n",
    "    while (start <= end):\n",
    "        mid = (start + end) // 2\n",
    "\n",
    "        if (a > point[mid]):\n",
    "            start = mid + 1\n",
    "        else:\n",
    "            end = mid - 1\n",
    "\n",
    "    return end\n",
    "\n",
    "def dot_max(b):   # 선분 중 가장 큰 점 구하기\n",
    "    start = 0\n",
    "    end = N - 1\n",
    "\n",
    "    while (start <= end):\n",
    "        mid = (start + end) // 2\n",
    "\n",
    "        if (b < point[mid]):\n",
    "            end = mid - 1\n",
    "        else:\n",
    "            start = mid + 1\n",
    "\n",
    "    return end\n",
    "\n",
    "for _ in range(M):\n",
    "    a, b = map(int, input().split())\n",
    "    print(dot_max(b) - dot_min(a))"
   ]
  },
  {
   "cell_type": "code",
   "execution_count": null,
   "metadata": {},
   "outputs": [
    {
     "name": "stdout",
     "output_type": "stream",
     "text": [
      "16\n"
     ]
    }
   ],
   "source": [
    "# 2343 기타 레슨\n",
    "\n",
    "import sys\n",
    "\n",
    "input = sys.stdin.readline\n",
    "N, M = map(int, input().split())\n",
    "li = list(map(int, input().split()))\n",
    "\n",
    "start, end = max(li), sum(li) # 시작값 : 가장 큰 용량, 끝값 : 모든 용량의 합\n",
    "\n",
    "while (start <= end):\n",
    "    mid = (start + end) // 2\n",
    "\n",
    "    blueray = 1 # 블루레이 개수\n",
    "    sum_size = 0 # 하나의 블루레이 안에 담기는 용량의 크기\n",
    "\n",
    "    for ix in li:\n",
    "        if ((sum_size + ix) <= mid): # mid보다 작거나 같은 경우(한 블루레이 안에 들어갈 수 있는 최대 용량 만큼 넣은 경우)\n",
    "            sum_size += ix\n",
    "        else: # 아닌 경우 -> 블루레이 개수 증가, 두 번째 블루레이에 용량을 더함\n",
    "            blueray += 1\n",
    "            sum_size = ix\n",
    "    \n",
    "    if (blueray <= M): # 블루레이 개수가 M개를 넘기 직전까지 용량을 줄여야 함\n",
    "        end = mid - 1\n",
    "    else:\n",
    "        start = mid + 1\n",
    "\n",
    "print(start)"
   ]
  },
  {
   "cell_type": "code",
   "execution_count": 1,
   "metadata": {},
   "outputs": [
    {
     "name": "stdout",
     "output_type": "stream",
     "text": [
      "1 2\n"
     ]
    }
   ],
   "source": [
    "# 2470 두 용액 (두 포인터)\n",
    "\n",
    "N = int(input())\n",
    "li = list(map(int, input().split()))\n",
    "li.sort()\n",
    "\n",
    "start, end = 0, N-1\n",
    "\n",
    "answer = abs(li[start] + li[end]) # 가장 작은 합\n",
    "result = [li[start], li[end]] # 결과 리스트\n",
    "\n",
    "while (start < end):\n",
    "    s_val = li[start] # 제일 작은 값\n",
    "    e_val = li[end] # 제일 큰 값\n",
    "\n",
    "    sum = s_val + e_val\n",
    "\n",
    "    if (abs(sum) < answer): # 처음의 합과 이후 연산을 통한 합 비교\n",
    "        answer = abs(sum) # 더 작은 값이 answer에 들어감\n",
    "        result = [s_val, e_val] # 그때의 두 용액\n",
    "\n",
    "        if (answer == 0): # 0이면 최솟값이기에 break\n",
    "            break\n",
    "    \n",
    "    if (sum < 0): # 음수면 작은 값을 증가시킴\n",
    "        start += 1\n",
    "    else: # 양수면 큰 값을 감소시킴\n",
    "        end -= 1\n",
    "\n",
    "print(*result) # 결과 리스트 출력"
   ]
  },
  {
   "cell_type": "code",
   "execution_count": null,
   "metadata": {},
   "outputs": [],
   "source": [
    "# 1260 DFS와 BFS\n",
    "\n",
    "from collections import deque\n",
    "import sys\n",
    "\n",
    "input = sys.stdin.readline\n",
    "\n",
    "N, M, V = map(int, input().split()) # 정점, 간선, 시작 노드 입력\n",
    "\n",
    "graph = [[] for _ in range(N+1)] # 그래프 초기화(생성)\n",
    "visited_dfs = [False] * (N+1) # DFS 진행 시 방문하는 노드 표시\n",
    "visited_bfs = [False] * (N+1) # BFS 진행 시 방문하는 노드 표시\n",
    "\n",
    "# 그래프 생성\n",
    "for _ in range(M):\n",
    "    a, b = map(int, input().split())\n",
    "    graph[a] += [b]\n",
    "    graph[b] += [a]\n",
    "\n",
    "# 작은 수 부터 탐색을 진행하기 위해 정렬\n",
    "for i in range(len(graph)):\n",
    "    graph[i].sort()\n",
    "\n",
    "def dfs(v):\n",
    "    print(v, end = \" \") # 시작 노드 출력\n",
    "    visited_dfs[v] = True # 방문 표시\n",
    "\n",
    "    for ix in graph[v]: # 시작 노드의 다음 노드 진행\n",
    "        if not (visited_dfs[ix]): # 방문하지 않은 노드라면\n",
    "            dfs(ix) # 재귀 호출\n",
    "\n",
    "def bfs(v):\n",
    "    print(v, end = \" \") # 시작 노드 출력\n",
    "    visited_bfs[v] = True # 방문 표시\n",
    "    Q = deque([v]) # 큐 생성\n",
    "\n",
    "    while Q: # 큐에 내용이 존재하지 않을 때 까지\n",
    "        c = Q.popleft() # 큐의 왼쪽부터 pop\n",
    "\n",
    "        for ix in graph[c]: # 시작 노드의 왼쪽 자식 노드의 자식 노드들\n",
    "            if not (visited_bfs[ix]): # 방문하지 않은 노드라면\n",
    "                visited_bfs[ix] = True # 방문 표시\n",
    "                print(ix, end = \" \") # 출력\n",
    "                Q.append(ix) # 큐에 저장\n",
    "\n",
    "dfs(V)\n",
    "print()\n",
    "bfs(V)"
   ]
  },
  {
   "cell_type": "code",
   "execution_count": null,
   "metadata": {},
   "outputs": [
    {
     "name": "stdout",
     "output_type": "stream",
     "text": [
      "4\n"
     ]
    }
   ],
   "source": [
    "# 1697 숨바꼭질\n",
    "\n",
    "from collections import deque\n",
    "import sys\n",
    "\n",
    "input = sys.stdin.readline\n",
    "\n",
    "MAX = 10 ** 5 # 입력의 최댓값\n",
    "\n",
    "N, K = map(int, input().split())\n",
    "dist = [0] * (MAX + 1) # 방문 표시 및 당시의 거리\n",
    "\n",
    "def bfs(num):\n",
    "    Q = deque()\n",
    "    Q.append(num) # 처음 위치\n",
    "\n",
    "    while Q:\n",
    "        c = Q.popleft()\n",
    "\n",
    "        if (c == K): # 현재 위치가 K와 일치하다면\n",
    "            return dist[c] # 방문 횟수 리턴\n",
    "\n",
    "        # 현재 위치에서 다음 위치로 이동하는 경우의 수\n",
    "        for ix in (c-1, c+1, c*2):\n",
    "            if (0 <= ix <= MAX) and (dist[ix] == 0): # 다음 위치가 범위에 있고 방문하지 않았더라면\n",
    "                dist[ix] = dist[c] + 1 # 방문횟수 1 증가\n",
    "                Q.append(ix) # 큐에 입력해주어 다음 탐색에 이용\n",
    "\n",
    "print(bfs(N)) # 출력"
   ]
  },
  {
   "cell_type": "code",
   "execution_count": 23,
   "metadata": {},
   "outputs": [
    {
     "name": "stdout",
     "output_type": "stream",
     "text": [
      "13\n",
      "1\n",
      "1\n",
      "1\n",
      "1\n",
      "1\n",
      "1\n",
      "1\n",
      "1\n",
      "1\n",
      "1\n",
      "1\n",
      "1\n",
      "1\n"
     ]
    }
   ],
   "source": [
    "# 2667 단지번호붙이기\n",
    "\n",
    "from collections import deque\n",
    "\n",
    "N = int(input())\n",
    "\n",
    "# 지도 생성\n",
    "map = [[] for _ in range(N)]\n",
    "for i in range(N):\n",
    "    num = input().strip()\n",
    "    for ix in num:\n",
    "        map[i].append(int(ix))\n",
    "\n",
    "# 방문여부 체크 \n",
    "visited = [[False] * N for _ in range(N)]\n",
    "\n",
    "# action(상, 하, 좌, 우)\n",
    "dx = [0, 0, -1, 1]\n",
    "dy = [1, -1, 0, 0]\n",
    "\n",
    "house = 0 # 집의 개수\n",
    "apart = [] # 집의 개수를 저장하는 리스트(리스트의 길이 = 총 단지수)\n",
    "for x in range(N):\n",
    "    for y in range(N):\n",
    "        # (0, 0) 부터 (N, N)까지 탐색\n",
    "        if (map[x][y] == 1) and not (visited[x][y]): # (x, y)에 집이 존재하고 방문하지 않은 경우\n",
    "            visited[x][y] = True # 방문 표시\n",
    "            house += 1 # 집 개수 카운팅\n",
    "\n",
    "            Q = deque()\n",
    "            Q.append([x, y]) # 현재 위치 저장\n",
    "\n",
    "            while Q:\n",
    "                cx, cy = Q.popleft()\n",
    "\n",
    "                # (x,y) -> (x, y+1) / (x, y-1) / (x-1, y) / (x+1, y)\n",
    "                for i in range(4):\n",
    "                    nx = cx + dx[i]\n",
    "                    ny = cy + dy[i]\n",
    "\n",
    "                    # (x, y)의 상하좌우중 집이 있을 경우 \n",
    "                    if (0 <= nx < N) and (0 <= ny < N) and (map[nx][ny] == 1) and not (visited[nx][ny]):\n",
    "                        visited[nx][ny] = True # 방문 체크\n",
    "                        Q.append((nx, ny)) # 큐에 추가하여 이어서 탐색 진행\n",
    "                        house += 1 # 집 개수 카운팅\n",
    "\n",
    "        # 집의 개수가 0인 경우는 존재하지 않음\n",
    "        if (house != 0):\n",
    "            apart.append(house) # 리스트에 집 개수 저장\n",
    "            house = 0 # 0으로 초기화\n",
    "\n",
    "apart.sort() # 오름차순으로 출력하기 위해 정렬\n",
    "\n",
    "# 출력\n",
    "print(len(apart))\n",
    "for ix in apart:\n",
    "    print(ix)"
   ]
  },
  {
   "cell_type": "code",
   "execution_count": null,
   "metadata": {},
   "outputs": [],
   "source": [
    "import sys\n",
    "\n",
    "input = sys.stdin.readline\n",
    "sys.setrecursionlimit(1000000)"
   ]
  },
  {
   "cell_type": "code",
   "execution_count": null,
   "metadata": {},
   "outputs": [
    {
     "name": "stdout",
     "output_type": "stream",
     "text": [
      "YES\n",
      "NO\n"
     ]
    }
   ],
   "source": [
    "# 1707 이분 그래프\n",
    "\n",
    "K = int(input())\n",
    "\n",
    "def dfs(num, color): # color : 1 = red / -1 = blue\n",
    "    visited[num] = True\n",
    "    colors[num] = color # 임의의 색상 부여 (1 = red)\n",
    "\n",
    "    for ix in graph[num]:\n",
    "        if not (visited[ix]):\n",
    "            a = dfs(ix, -color) # 방문하지 않은 정점인 경우 반대 색상 부여 (-1 = blue)\n",
    "\n",
    "            if not a: # 탐색 결과가 false면 false 리턴\n",
    "                return False\n",
    "\n",
    "        elif (colors[ix] == colors[num]): # 현재 정점과 다음 정점의 색상이 같은 경우 false 리턴\n",
    "            return False\n",
    "    \n",
    "    return True\n",
    "\n",
    "for _ in range(K):\n",
    "    V, E = map(int, input().split())\n",
    "\n",
    "    graph = [[] for _ in range(V+1)] # 그래프 초기화\n",
    "    visited = [False] * (V+1) # 방문 표시\n",
    "    colors = [0] * (V+1) # 색상 표시\n",
    "\n",
    "    # 그래프 생성\n",
    "    for _ in range(E):\n",
    "        a, b = map(int, input().split())\n",
    "        graph[a] += [b]\n",
    "        graph[b] += [a]\n",
    "\n",
    "    # 각 정점을 시작점으로 두고 탐색\n",
    "    for i in range(1, V+1):\n",
    "        if not (visited[i]): # 방문하지 않은 정점인 경우만\n",
    "            result = dfs(i, 1) # 임의의 색상 1 (or -1) 부여\n",
    "\n",
    "            if not result: # 탐색 리턴값이 false면 break\n",
    "                break\n",
    "\n",
    "    print(\"YES\" if result else \"NO\")"
   ]
  },
  {
   "cell_type": "code",
   "execution_count": 46,
   "metadata": {},
   "outputs": [
    {
     "name": "stdout",
     "output_type": "stream",
     "text": [
      "2\n"
     ]
    }
   ],
   "source": [
    "# 2573 빙산\n",
    "\n",
    "from collections import deque\n",
    "import sys\n",
    "\n",
    "sys.setrecursionlimit(10**4)\n",
    "input = sys.stdin.readline\n",
    "\n",
    "N, M = map(int, input().split())\n",
    "\n",
    "# 상하좌우 이동\n",
    "dx = [0 ,0, -1, 1]\n",
    "dy = [1, -1, 0, 0]\n",
    "\n",
    "# 매트릭스 생성\n",
    "matrix = []\n",
    "for _ in range(N):\n",
    "    matrix.append(list(map(int, input().split())))\n",
    "\n",
    "time = 0 # 빙하가 분리되기까지 걸리는 시간 측정\n",
    "\n",
    "while (True):\n",
    "    ice = 0\n",
    "    visited = [[False] * M for _ in range(N)] # 방문 처리\n",
    "    sea = [[0] * M for _ in range(N)] # 주변 바다 저장 리스트\n",
    "\n",
    "    # 매트릭스 완전 탐색\n",
    "    for x in range(N):\n",
    "        for y in range(M):\n",
    "            if (matrix[x][y] != 0) and not (visited[x][y]): # 빙산이고 방문하지 않은 경우\n",
    "                visited[x][y] = True # 방문 표시\n",
    "\n",
    "                Q = deque()\n",
    "                Q.append([x, y])\n",
    "\n",
    "                while Q:\n",
    "                    cx, cy = Q.popleft()\n",
    "\n",
    "                    for i in range(4): # 상하좌우 탐색\n",
    "                        nx = cx + dx[i]\n",
    "                        ny = cy + dy[i]\n",
    "\n",
    "                        if (matrix[nx][ny] == 0): # 인접 노드가 0이고 방문하지 않은 경우\n",
    "                            sea[cx][cy] += 1\n",
    "\n",
    "                        elif (matrix[nx][ny] != 0) and not (visited[nx][ny]): # 0이 아닌경우 -> 빙산의 일부이기에 Q에 추가\n",
    "                            visited[nx][ny] = True\n",
    "                            Q.append([nx, ny])\n",
    "\n",
    "                # Q가 비어서 while문이 종료가 된다면 빙하가 더 이상 이어져 있지 않음\n",
    "                ice += 1\n",
    "\n",
    "    for x in range(N):\n",
    "        for y in range(M):\n",
    "            if (visited[x][y]): # 방문한 노드 = 빙하\n",
    "                matrix[x][y] -= sea[x][y] # 빙하 - 인접한 바다의 수수\n",
    "\n",
    "                if (matrix[x][y] < 0): # 0보다 작아지면 0으로로\n",
    "                    matrix[x][y] = 0\n",
    "\n",
    "    # 탐색 이후 빙하의 개수가 2개 이상이면 멈춤\n",
    "    if (ice >= 2):\n",
    "        break\n",
    "\n",
    "    if (ice == 0):\n",
    "        time = 0\n",
    "        break\n",
    "    \n",
    "    # 시간 증가\n",
    "    time += 1\n",
    "\n",
    "print(time)"
   ]
  },
  {
   "cell_type": "code",
   "execution_count": 9,
   "metadata": {},
   "outputs": [
    {
     "name": "stdout",
     "output_type": "stream",
     "text": [
      "2 3 0 1 3 "
     ]
    }
   ],
   "source": [
    "# 18870 좌표 압축\n",
    "\n",
    "N = int(input())\n",
    "li = list(map(int, input().split()))\n",
    "s_li = list(set(li))\n",
    "s_li.sort()\n",
    "\n",
    "idx_li = [i for i in range(len(s_li))]\n",
    "\n",
    "li_dict = {key : value for key, value in zip(s_li, idx_li)}\n",
    "\n",
    "for ix in li:\n",
    "    print(li_dict[ix], end = \" \")"
   ]
  },
  {
   "cell_type": "code",
   "execution_count": 14,
   "metadata": {},
   "outputs": [
    {
     "name": "stdout",
     "output_type": "stream",
     "text": [
      "-1 0 4\n",
      "0 0 3\n",
      "0 1 2\n"
     ]
    }
   ],
   "source": [
    "# 14940 쉬운 최단거리\n",
    "\n",
    "from collections import deque\n",
    "\n",
    "di = [0, 0, -1, 1]\n",
    "dj = [1, -1, 0 ,0]\n",
    "\n",
    "N, M = map(int, input().split())\n",
    "\n",
    "mat = []\n",
    "for _ in range(N):\n",
    "    mat.append(list(map(int, input().split())))\n",
    "\n",
    "visited = [[False] * M for _ in range(N)]\n",
    "\n",
    "Q = deque()\n",
    "for i in range(N):\n",
    "    for j in range(M):\n",
    "        if (mat[i][j] == 2) and not (visited[i][j]): # 시작점\n",
    "            visited[i][j] = True\n",
    "            mat[i][j] = 0\n",
    "\n",
    "            Q.append([i, j])\n",
    "\n",
    "            while Q:\n",
    "                ci, cj = Q.popleft()\n",
    "\n",
    "                for k in range(4):\n",
    "                    ni = ci + di[k]\n",
    "                    nj = cj + dj[k]\n",
    "\n",
    "                    # 다음 노드가 1이고 방문하지 않은 경우\n",
    "                    if (0 <= ni < N) and (0 <= nj < M) and (mat[ni][nj] == 1) and not (visited[ni][nj]):\n",
    "                        visited[ni][nj] = True\n",
    "                        mat[ni][nj] += mat[ci][cj]\n",
    "                        Q.append([ni, nj])\n",
    "\n",
    "for i in range(N):\n",
    "    for j in range(M):\n",
    "        if (mat[i][j] == 1) and not (visited[i][j]):\n",
    "            mat[i][j] = -1\n",
    "\n",
    "for ix in mat:\n",
    "    print(*ix)"
   ]
  },
  {
   "cell_type": "code",
   "execution_count": 17,
   "metadata": {},
   "outputs": [
    {
     "name": "stdout",
     "output_type": "stream",
     "text": [
      "2\n",
      "2\n",
      "0\n",
      "2\n",
      "1\n",
      "-1\n",
      "0\n",
      "1\n",
      "-1\n",
      "0\n"
     ]
    }
   ],
   "source": [
    "# 10828 스택\n",
    "\n",
    "import sys\n",
    "\n",
    "input = sys.stdin.readline\n",
    "\n",
    "N = int(input())\n",
    "\n",
    "li = []\n",
    "\n",
    "for _ in range(N):\n",
    "    cmd = input().strip().split()\n",
    "\n",
    "    if (len(cmd) == 2):\n",
    "        op, x = cmd[0], cmd[1]\n",
    "\n",
    "        if (op == \"push\"):\n",
    "            li.append(x)\n",
    "\n",
    "    if (cmd[0] == \"pop\"):\n",
    "        if (len(li) == 0):\n",
    "            print(-1)\n",
    "        else:\n",
    "            print(li[-1])\n",
    "            del li[-1]\n",
    "\n",
    "    elif (cmd[0] == \"top\"):\n",
    "        if (len(li) == 0):\n",
    "            print(-1)\n",
    "        else:\n",
    "            print(li[-1])\n",
    "\n",
    "    elif (cmd[0] == \"size\"):\n",
    "        print(len(li))\n",
    "\n",
    "    elif (cmd[0] == \"empty\"):\n",
    "        if (len(li) == 0):\n",
    "            print(1)\n",
    "        else:\n",
    "            print(0)"
   ]
  },
  {
   "cell_type": "code",
   "execution_count": null,
   "metadata": {},
   "outputs": [],
   "source": [
    "# 10845 큐\n",
    "\n",
    "N = int(input())\n",
    "\n",
    "li = []\n",
    "\n",
    "for _ in range(N):\n",
    "    cmd = input().strip().split()\n",
    "\n",
    "    if (len(cmd) == 2):\n",
    "        op, x = cmd[0], cmd[1]\n",
    "\n",
    "        if (op == \"push\"):\n",
    "            li.append(x)\n",
    "\n",
    "    if (cmd[0] == \"pop\"):\n",
    "        if (len(li) == 0):\n",
    "            print(-1)\n",
    "        else:\n",
    "            print(li[0])\n",
    "            del li[0]\n",
    "\n",
    "    elif (cmd[0] == \"size\"):\n",
    "        print(len(li))\n",
    "\n",
    "    elif (cmd[0] == \"empty\"):\n",
    "        if (len(li) == 0):\n",
    "            print(1)\n",
    "        else:\n",
    "            print(0)\n",
    "\n",
    "    elif (cmd[0] == \"front\"):\n",
    "        if (len(li) == 0):\n",
    "            print(-1)\n",
    "        else:\n",
    "            print(li[0])\n",
    "\n",
    "    elif (cmd[0] == \"back\"):\n",
    "        if (len(li) == 0):\n",
    "            print(-1)\n",
    "        else:\n",
    "            print(li[-1])\n"
   ]
  },
  {
   "cell_type": "code",
   "execution_count": null,
   "metadata": {},
   "outputs": [
    {
     "name": "stdout",
     "output_type": "stream",
     "text": [
      "1\n",
      "1\n",
      "0\n",
      "0\n",
      "1\n"
     ]
    }
   ],
   "source": [
    "# 1920 수 찾기 (이분 탐색)\n",
    "\n",
    "N = int(input())\n",
    "N_list = list(map(int ,input().split())) # 정답지\n",
    "\n",
    "M = int(input())\n",
    "M_list = list(map(int ,input().split())) # 답안지\n",
    "\n",
    "N_list.sort() # 정답지 정렬\n",
    "\n",
    "for ix in M_list:\n",
    "    start, end = 0, max(N_list)\n",
    "\n",
    "    while (start <= end):\n",
    "        mid = (start + end) // 2\n",
    "\n",
    "        if (ix == mid):\n",
    "            print(1)\n",
    "            break\n",
    "\n",
    "        elif (ix < mid):\n",
    "            end = mid - 1\n",
    "        else:\n",
    "            start = mid + 1\n",
    "    \n",
    "    if (start > end):\n",
    "        print(0)\n"
   ]
  },
  {
   "cell_type": "code",
   "execution_count": null,
   "metadata": {},
   "outputs": [
    {
     "name": "stdout",
     "output_type": "stream",
     "text": [
      "1\n",
      "1\n",
      "0\n",
      "0\n",
      "1\n"
     ]
    }
   ],
   "source": [
    "# 1920 수 찾기 (집합 변환)\n",
    "\n",
    "import sys\n",
    "\n",
    "input = sys.stdin.readline\n",
    "\n",
    "N = int(input())\n",
    "N_list = list(map(int ,input().split())) # 정답지\n",
    "\n",
    "M = int(input())\n",
    "M_list = list(map(int ,input().split())) # 답안지\n",
    "\n",
    "N_set = set(N_list) # 집합 변환(중복 제거)\n",
    "\n",
    "for ix in M_list:\n",
    "    if (ix in N_set): # 집합 내 존재 여부 판단\n",
    "        print(1)\n",
    "    else:\n",
    "        print(0)"
   ]
  },
  {
   "cell_type": "code",
   "execution_count": null,
   "metadata": {},
   "outputs": [
    {
     "name": "stdout",
     "output_type": "stream",
     "text": [
      "NO\n"
     ]
    }
   ],
   "source": [
    "# 1874 스택 수열\n",
    "\n",
    "import sys\n",
    "\n",
    "input = sys.stdin.readline\n",
    "N = int(input())\n",
    "\n",
    "stack = [] # 스택\n",
    "operate = [] # push(+), pop(-) 여부 저장\n",
    "count = 1 # 1 ~ N까지 수열 저장\n",
    "boolean = True # 수열 출력 가능 여부 판단\n",
    "\n",
    "for _ in range(N):\n",
    "    num = int(input())\n",
    "\n",
    "    while (count <= num): # 1부터 num까지 스택에 push\n",
    "        stack.append(count)\n",
    "        operate.append(\"+\")\n",
    "\n",
    "        count += 1\n",
    "\n",
    "    if (stack[-1] == num): # 스택의 top이 num과 같다면 pop\n",
    "        stack.pop()\n",
    "        operate.append(\"-\")\n",
    "\n",
    "    else: # 같지 않다면 이 수열은 만들 수 없음\n",
    "        boolean = False\n",
    "\n",
    "if (boolean):\n",
    "    for ix in operate:\n",
    "        print(ix)\n",
    "else:\n",
    "    print(\"NO\")"
   ]
  },
  {
   "cell_type": "code",
   "execution_count": 6,
   "metadata": {},
   "outputs": [
    {
     "name": "stdout",
     "output_type": "stream",
     "text": [
      "2 2 1 2 5 "
     ]
    }
   ],
   "source": [
    "# 7568 덩치\n",
    "\n",
    "N = int(input())\n",
    "\n",
    "li = []\n",
    "for _ in range(N):\n",
    "    weight, height = map(int, input().split())\n",
    "    li.append([weight, height])\n",
    "\n",
    "for ix in li:\n",
    "    rank = 1\n",
    "    for jx in li:\n",
    "        if (ix[0] < jx[0]) and (ix[1] < jx[1]):\n",
    "            rank += 1\n",
    "\n",
    "    print(rank, end = \" \")"
   ]
  },
  {
   "cell_type": "code",
   "execution_count": 26,
   "metadata": {},
   "outputs": [
    {
     "name": "stdout",
     "output_type": "stream",
     "text": [
      "31\n"
     ]
    }
   ],
   "source": [
    "# 1018 체스판 다시 칠하기\n",
    "\n",
    "import sys\n",
    "input = sys.stdin.readline\n",
    "\n",
    "N, M = map(int, input().split())\n",
    "\n",
    "# 매트릭스 생성\n",
    "mat = [[] for _ in range(N)]\n",
    "for i in range(N):\n",
    "    word = input()\n",
    "\n",
    "    for ix in word:\n",
    "        mat[i].append(ix)\n",
    "\n",
    "result = [] # 결과 저장 리스트\n",
    "for i in range(N-7):\n",
    "    for j in range(M-7):\n",
    "        black = 0 # B인 경우\n",
    "        white = 0 # W인 경우\n",
    "        \n",
    "        # (0, 0)이 B인 경우, 짝수칸은 B, 홀수칸은 W\n",
    "        # (0, 0)이 W인 경우, 짝수칸은 W, 홀수칸은 B\n",
    "        \n",
    "        for a in range(i, i+8):\n",
    "            for b in range(j, j+8):\n",
    "                if ((a + b) % 2 == 0):\n",
    "                    if (mat[a][b] != \"B\"): \n",
    "                        black += 1\n",
    "                    if (mat[a][b] != \"W\"):\n",
    "                        white += 1\n",
    "                \n",
    "                else:\n",
    "                    if (mat[a][b] != \"W\"):\n",
    "                        black += 1\n",
    "                    if (mat[a][b] != \"B\"):\n",
    "                        white += 1\n",
    "        \n",
    "        result.append(black)\n",
    "        result.append(white)\n",
    "\n",
    "print(min(result))"
   ]
  },
  {
   "cell_type": "code",
   "execution_count": null,
   "metadata": {},
   "outputs": [
    {
     "name": "stdout",
     "output_type": "stream",
     "text": [
      "1 2 "
     ]
    }
   ],
   "source": [
    "# 1325 효율적인 해킹\n",
    "\n",
    "from collections import deque\n",
    "import sys\n",
    "\n",
    "input = sys.stdin.readline\n",
    "\n",
    "N, M = map(int, input().split())\n",
    "\n",
    "graph = [[] for _ in range(N+1)]\n",
    "for _ in range(M):\n",
    "    a, b = map(int, input().split())\n",
    "    graph[b] += [a]\n",
    "\n",
    "def bfs(num):\n",
    "    visited = [0] * (N+1)\n",
    "\n",
    "    Q = deque()\n",
    "    Q.append(num)\n",
    "\n",
    "    visited[num] = 1\n",
    "\n",
    "    while Q:\n",
    "        c = Q.popleft()\n",
    "\n",
    "        for ix in graph[c]:\n",
    "            if (visited[ix] == 0):\n",
    "                visited[ix] = 1\n",
    "                Q.append(ix)\n",
    "\n",
    "    return (sum(visited) - 1)\n",
    "\n",
    "count = []\n",
    "for i in range(1, N+1):\n",
    "    count.append(bfs(i))\n",
    "\n",
    "for i in range(len(count)):\n",
    "    if (count[i] == max(count)):\n",
    "        print(i+1, end = ' ')"
   ]
  },
  {
   "cell_type": "code",
   "execution_count": 5,
   "metadata": {},
   "outputs": [
    {
     "ename": "ValueError",
     "evalue": "not enough values to unpack (expected 2, got 0)",
     "output_type": "error",
     "traceback": [
      "\u001b[1;31m---------------------------------------------------------------------------\u001b[0m",
      "\u001b[1;31mValueError\u001b[0m                                Traceback (most recent call last)",
      "Cell \u001b[1;32mIn[5], line 3\u001b[0m\n\u001b[0;32m      1\u001b[0m \u001b[38;5;66;03m# 1051 숫자 정사각형형\u001b[39;00m\n\u001b[1;32m----> 3\u001b[0m N, M \u001b[38;5;241m=\u001b[39m \u001b[38;5;28mmap\u001b[39m(\u001b[38;5;28mint\u001b[39m ,\u001b[38;5;28minput\u001b[39m()\u001b[38;5;241m.\u001b[39msplit())\n\u001b[0;32m      5\u001b[0m \u001b[38;5;66;03m# 매트릭스 생성\u001b[39;00m\n\u001b[0;32m      6\u001b[0m mat \u001b[38;5;241m=\u001b[39m [[] \u001b[38;5;28;01mfor\u001b[39;00m _ \u001b[38;5;129;01min\u001b[39;00m \u001b[38;5;28mrange\u001b[39m(N)]\n",
      "\u001b[1;31mValueError\u001b[0m: not enough values to unpack (expected 2, got 0)"
     ]
    }
   ],
   "source": [
    "# 1051 숫자 정사각형\n",
    "\n",
    "import sys\n",
    "\n",
    "input = sys.stdin.readline\n",
    "\n",
    "N, M = map(int ,input().split())\n",
    "\n",
    "# 매트릭스 생성\n",
    "mat = [[] for _ in range(N)]\n",
    "for i in range(N):\n",
    "    word = input()\n",
    "\n",
    "    for ix in word:\n",
    "        mat[i].append(ix)\n",
    "\n",
    "def search(num):\n",
    "    for i in range(N-num + 1):\n",
    "        for j in range(M-num + 1):\n",
    "            if (mat[i][j] == mat[i][j+num-1]) and (mat[i][j] == mat[i+num-1][j]) and (mat[i][j] == mat[i+num-1][j+num-1]): # 꼭짓점 일치 여부 판단\n",
    "                return True\n",
    "            \n",
    "    return False\n",
    "\n",
    "size = min(N, M) # 두 변중 작은 변 선택\n",
    "\n",
    "for i in range(size, 0, -1): # 정사각형이 가장 큰 경우부터 탐색\n",
    "    if (search(i)):\n",
    "        print(i ** 2)\n",
    "        \n",
    "        break"
   ]
  },
  {
   "cell_type": "code",
   "execution_count": 9,
   "metadata": {},
   "outputs": [
    {
     "name": "stdout",
     "output_type": "stream",
     "text": [
      "9567843012\n",
      "1023765489\n"
     ]
    }
   ],
   "source": [
    "# 2529 부등호\n",
    "\n",
    "import sys\n",
    "\n",
    "input = sys.stdin.readline\n",
    "\n",
    "N = int(input())\n",
    "op = list(input().split())\n",
    "\n",
    "visited = [False] * 10 # \n",
    "result = [] # 결과 저장 리스트\n",
    "\n",
    "# 부등호 판별\n",
    "def check(a, b, op):\n",
    "    if (op == \"<\"):\n",
    "        if (a > b):\n",
    "            return False\n",
    "    \n",
    "    if (op == \">\"):\n",
    "        if (a < b):\n",
    "            return False\n",
    "    \n",
    "    return True\n",
    "\n",
    "# DFS 알고리즘\n",
    "def dfs(count, num):\n",
    "    if (count == (N+1)): # 자릿수를 만족하면\n",
    "        result.append(num) # 리스트에 추가\n",
    "        return\n",
    "    \n",
    "    for i in range(10): # 0 ~ 9까지 탐색\n",
    "        if not (visited[i]): # 이미 나온 수는 통과 (중복 존재 x)\n",
    "            if (count == 0) or (check(num[-1], str(i), op[count-1])): # 첫번째 자리 or check()가 참일 경우\n",
    "                visited[i] = True # 방문 표시\n",
    "                dfs(count+1, num + str(i)) # 다음 숫자 재귀\n",
    "                visited[i] = False # 방문 표시 해제\n",
    "\n",
    "dfs(0, '')\n",
    "\n",
    "result.sort()\n",
    "print(result[-1] + \"\\n\" + result[0])"
   ]
  },
  {
   "cell_type": "code",
   "execution_count": null,
   "metadata": {},
   "outputs": [
    {
     "name": "stdout",
     "output_type": "stream",
     "text": [
      "1\n",
      "3 2\n"
     ]
    },
    {
     "ename": "SystemExit",
     "evalue": "0",
     "output_type": "error",
     "traceback": [
      "An exception has occurred, use %tb to see the full traceback.\n",
      "\u001b[1;31mSystemExit\u001b[0m\u001b[1;31m:\u001b[0m 0\n"
     ]
    },
    {
     "name": "stderr",
     "output_type": "stream",
     "text": [
      "c:\\Users\\Noh\\anaconda3\\Lib\\site-packages\\IPython\\core\\interactiveshell.py:3585: UserWarning: To exit: use 'exit', 'quit', or Ctrl-D.\n",
      "  warn(\"To exit: use 'exit', 'quit', or Ctrl-D.\", stacklevel=1)\n"
     ]
    }
   ],
   "source": [
    "# 2615 오목\n",
    "\n",
    "import sys\n",
    "input = sys.stdin.readline\n",
    "\n",
    "# 오목판 생성\n",
    "mat = []\n",
    "for _ in range(19):\n",
    "    num = list(map(int, input().split()))\n",
    "    mat.append(num)\n",
    "\n",
    "# 북동, 동, 남동, 남\n",
    "dx = [-1, 0, 1, 1]\n",
    "dy = [1, 1, 1, 0]\n",
    "\n",
    "for x in range(19):\n",
    "    for y in range(19):\n",
    "        if (mat[x][y] != 0):\n",
    "            start = mat[x][y] # 1 = black / 2 = white\n",
    "\n",
    "            for i in range(4):\n",
    "                nx = x + dx[i]\n",
    "                ny = y + dy[i]\n",
    "\n",
    "                count = 1\n",
    "\n",
    "                while (0 <= nx < 19) and (0 <= ny < 19) and (mat[nx][ny] == start):\n",
    "                    count += 1\n",
    "\n",
    "                    if (count == 5): # 5목일때, 6목 체크 or 출력\n",
    "                        if (0 <= x - dx[i] < 19) and (0 <= y - dy[i] < 19) and (mat[x-dx[i]][y-dy[i]] == start): # 시작점 이전의 돌이 흰 또는 검인지 판단\n",
    "                            break\n",
    "\n",
    "                        if (0 <= nx + dx[i] < 19) and (0 <= ny + dy[i] < 19) and (mat[nx+dx[i]][ny+dy[i]] == start): # 끝점 이후의 돌이 흰 또는 검인지 판단\n",
    "                            break\n",
    "\n",
    "                        print(start) # 흑 또는 백 승리\n",
    "                        print(x+1, y+1) # 5개 줄의 시작점\n",
    "                        sys.exit(0) # 종료코드\n",
    "\n",
    "                    nx += dx[i]\n",
    "                    ny += dy[i]\n",
    "\n",
    "# 승자가 없는 경우\n",
    "print(0)"
   ]
  },
  {
   "cell_type": "code",
   "execution_count": 19,
   "metadata": {},
   "outputs": [
    {
     "name": "stdout",
     "output_type": "stream",
     "text": [
      "4\n"
     ]
    }
   ],
   "source": [
    "# 2164 카드2\n",
    "\n",
    "N = int(input())\n",
    "\n",
    "stack = []\n",
    "for i in range(1, N+1):\n",
    "    stack.append(i)\n",
    "\n",
    "while (len(stack) > 1):\n",
    "    del stack[0] # 제일 위에 있는 숫자 지우기\n",
    "\n",
    "    stack.append(stack[0]) # 제일 위에 있는 숫자 뒤로 추가\n",
    "    del stack[0] # 지우기\n",
    "\n",
    "print(*stack)"
   ]
  },
  {
   "cell_type": "code",
   "execution_count": 26,
   "metadata": {},
   "outputs": [
    {
     "name": "stdout",
     "output_type": "stream",
     "text": [
      "4\n"
     ]
    }
   ],
   "source": [
    "# 2164 카드2\n",
    "\n",
    "from collections import deque\n",
    "\n",
    "N = int(input())\n",
    "\n",
    "Q = deque() # 큐 생성\n",
    "for i in range(1, N+1):\n",
    "    Q.append(i) # 1 부터 N까지 추가\n",
    "\n",
    "while (len(Q) > 1): # Q에 카드 한 장 남을때 까지\n",
    "    Q.popleft() # 최상단 제거\n",
    "    Q.append(Q.popleft()) # 두번째 카드 뒤로 옮기기 (제거와 동시에 맨 뒤에 추가)\n",
    "\n",
    "print(*Q) # Q 내부 원소만 출력"
   ]
  },
  {
   "cell_type": "code",
   "execution_count": null,
   "metadata": {},
   "outputs": [
    {
     "name": "stdout",
     "output_type": "stream",
     "text": [
      "1\n"
     ]
    }
   ],
   "source": [
    "# 2839 설탕 배달\n",
    "\n",
    "import sys\n",
    "input = sys.stdin.readline\n",
    "\n",
    "N = int(input())\n",
    "\n",
    "count = 0\n",
    "\n",
    "while (N >= 0):\n",
    "    if (N % 5 == 0):\n",
    "        count += int(N // 5)\n",
    "        print(count)\n",
    "        break\n",
    "\n",
    "    N -= 3\n",
    "    count += 1\n",
    "\n",
    "else:\n",
    "    print(-1)"
   ]
  },
  {
   "cell_type": "code",
   "execution_count": null,
   "metadata": {},
   "outputs": [
    {
     "ename": "IndexError",
     "evalue": "list index out of range",
     "output_type": "error",
     "traceback": [
      "\u001b[1;31m---------------------------------------------------------------------------\u001b[0m",
      "\u001b[1;31mIndexError\u001b[0m                                Traceback (most recent call last)",
      "Cell \u001b[1;32mIn[13], line 11\u001b[0m\n\u001b[0;32m      8\u001b[0m     \u001b[38;5;28;01mbreak\u001b[39;00m\n\u001b[0;32m     10\u001b[0m \u001b[38;5;28;01mfor\u001b[39;00m s \u001b[38;5;129;01min\u001b[39;00m word:\n\u001b[1;32m---> 11\u001b[0m     \u001b[38;5;28;01mif\u001b[39;00m stack[\u001b[38;5;241m0\u001b[39m] \u001b[38;5;241m==\u001b[39m \u001b[38;5;124m'\u001b[39m\u001b[38;5;124m)\u001b[39m\u001b[38;5;124m'\u001b[39m \u001b[38;5;129;01mor\u001b[39;00m stack[\u001b[38;5;241m0\u001b[39m] \u001b[38;5;241m==\u001b[39m \u001b[38;5;124m'\u001b[39m\u001b[38;5;124m]\u001b[39m\u001b[38;5;124m'\u001b[39m : \u001b[38;5;28;01mpass\u001b[39;00m\n\u001b[0;32m     13\u001b[0m     \u001b[38;5;28;01mif\u001b[39;00m (s \u001b[38;5;241m==\u001b[39m \u001b[38;5;124m\"\u001b[39m\u001b[38;5;124m(\u001b[39m\u001b[38;5;124m\"\u001b[39m) \u001b[38;5;129;01mor\u001b[39;00m (s \u001b[38;5;241m==\u001b[39m \u001b[38;5;124m\"\u001b[39m\u001b[38;5;124m[\u001b[39m\u001b[38;5;124m\"\u001b[39m):\n\u001b[0;32m     14\u001b[0m         stack\u001b[38;5;241m.\u001b[39mappend(s)\n",
      "\u001b[1;31mIndexError\u001b[0m: list index out of range"
     ]
    }
   ],
   "source": [
    "# 4949 균형잡힌 세상\n",
    "\n",
    "while (True):\n",
    "    stack = []\n",
    "    word = input()\n",
    "\n",
    "    if (word == \".\"):\n",
    "        break\n",
    "\n",
    "    for s in word:\n",
    "        if (s == \"(\") or (s == \"[\"):\n",
    "            stack.append(s)\n",
    "\n",
    "        elif (s == \")\"):\n",
    "            if (stack) and (stack[-1] == \"(\"):\n",
    "                stack.pop()\n",
    "            else:\n",
    "                stack.append(s)\n",
    "                break\n",
    "\n",
    "        elif (s == \"]\"):\n",
    "            if (stack) and (stack[-1] == \"[\"):\n",
    "                stack.pop()\n",
    "            else:\n",
    "                stack.append(s)\n",
    "                break\n",
    "\n",
    "    print(\"no\" if stack else \"yes\")"
   ]
  },
  {
   "cell_type": "code",
   "execution_count": null,
   "metadata": {},
   "outputs": [
    {
     "name": "stdout",
     "output_type": "stream",
     "text": [
      "32\n"
     ]
    }
   ],
   "source": [
    "# ATM\n",
    "\n",
    "import sys\n",
    "input = sys.stdin.readline\n",
    "\n",
    "N = int(input())\n",
    "time_list = list(map(int, input().split()))\n",
    "time_list.sort() # 시간 순으로 정렬\n",
    "\n",
    "time = 0\n",
    "# 시간을 순차적으로 더해줌\n",
    "for i in range(len(time_list)):\n",
    "    for j in range(i+1):\n",
    "        time += time_list[j]\n",
    "\n",
    "print(time)"
   ]
  },
  {
   "cell_type": "code",
   "execution_count": null,
   "metadata": {},
   "outputs": [
    {
     "name": "stdout",
     "output_type": "stream",
     "text": [
      "5\n"
     ]
    }
   ],
   "source": [
    "# 17503 맥주 축제\n",
    "\n",
    "import heapq\n",
    "import sys\n",
    "input = sys.stdin.readline\n",
    "\n",
    "N, M, K = map(int, input().split())\n",
    "\n",
    "# 맥주 종류 순으로 (선호도, 도수)\n",
    "beers = []\n",
    "for _ in range(K):\n",
    "    v, c = map(int, input().split())\n",
    "    beers.append((v, c))\n",
    "\n",
    "beers.sort(key = lambda x : x[1]) # 도수 기준으로 정렬\n",
    "\n",
    "flavor = 0 # 맥주를 마신 후 선호도\n",
    "heap = [] # 마신 맥주 저장\n",
    "\n",
    "for beer in beers:\n",
    "    if (len(heap) < N):\n",
    "        heapq.heappush(heap, beer) # 맥주를 마시고\n",
    "        flavor += beer[0] # 선호도 증가\n",
    "\n",
    "        if (len(heap) == N): # N잔 마셨을 때\n",
    "            if (flavor >= M): # 선호도가 M 이상이면\n",
    "                print(beer[1]) # 그 때의 도수가 최솟값\n",
    "                break\n",
    "            else:\n",
    "                flavor -= heapq.heappop(heap)[0] # 가장 처음 마신 맥주 제거\n",
    "\n",
    "else: # 전체 조건에 맞지 않을 경우\n",
    "    print(-1)"
   ]
  },
  {
   "cell_type": "code",
   "execution_count": null,
   "metadata": {},
   "outputs": [
    {
     "name": "stdout",
     "output_type": "stream",
     "text": [
      "6\n"
     ]
    }
   ],
   "source": [
    "# 1946 신입 사원\n",
    "\n",
    "import sys\n",
    "input = sys.stdin.readline\n",
    "\n",
    "T = int(input())\n",
    "\n",
    "for _ in range(T):\n",
    "    N = int(input())\n",
    "\n",
    "    people = []\n",
    "    for _ in range(N):\n",
    "        a, b = map(int, input().split())\n",
    "        people.append((a, b))\n",
    "    \n",
    "    people.sort(key = lambda x : x[0]) # 서류 성적이 낮은 순 정렬\n",
    "\n",
    "    pass_num = 1 # 통과한 사람 수\n",
    "    target = people[0][1] # 서류 성적이 젤 낮은 사람의 면접 등수\n",
    "    \n",
    "    # 등수 비교\n",
    "    for i in range(1, len(people)):\n",
    "        if (target > people[i][1]): # 등수가 더 크다 -> 순위가 낮다 -> 서류 성적도 낮고 면접 순위도 낮다\n",
    "            pass_num += 1 # 합격자 한명 추가\n",
    "            target = people[i][1] # 타겟 변경\n",
    "\n",
    "    print(pass_num)"
   ]
  },
  {
   "cell_type": "code",
   "execution_count": null,
   "metadata": {},
   "outputs": [
    {
     "name": "stdout",
     "output_type": "stream",
     "text": [
      "[1, 6]\n"
     ]
    }
   ],
   "source": [
    "# 10773 제로\n",
    "\n",
    "import sys\n",
    "input = sys.stdin.readline\n",
    "\n",
    "K = int(input())\n",
    "\n",
    "stack = []\n",
    "for i in range(K):\n",
    "    num = int(input())\n",
    "\n",
    "    if (num == 0):\n",
    "        stack.pop()\n",
    "\n",
    "    else:\n",
    "        stack.append(num)\n",
    "\n",
    "print(sum(stack))"
   ]
  }
 ],
 "metadata": {
  "kernelspec": {
   "display_name": "base",
   "language": "python",
   "name": "python3"
  },
  "language_info": {
   "codemirror_mode": {
    "name": "ipython",
    "version": 3
   },
   "file_extension": ".py",
   "mimetype": "text/x-python",
   "name": "python",
   "nbconvert_exporter": "python",
   "pygments_lexer": "ipython3",
   "version": "3.11.9"
  }
 },
 "nbformat": 4,
 "nbformat_minor": 2
}
