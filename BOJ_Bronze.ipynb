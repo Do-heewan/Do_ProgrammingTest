{
 "cells": [
  {
   "cell_type": "code",
   "execution_count": 3,
   "metadata": {},
   "outputs": [
    {
     "name": "stdout",
     "output_type": "stream",
     "text": [
      "       _.-;;-._\n",
      "'-..-'|   ||   |\n",
      "'-..-'|_.-;;-._|\n",
      "'-..-'|   ||   |\n",
      "'-..-'|_.-''-._|\n"
     ]
    }
   ],
   "source": [
    "# 5338 마소 로고\n",
    "\n",
    "print(\"       _.-;;-._\\n'-..-'|   ||   |\\n'-..-'|_.-;;-._|\\n'-..-'|   ||   |\\n'-..-'|_.-''-._|\")"
   ]
  },
  {
   "cell_type": "code",
   "execution_count": null,
   "metadata": {},
   "outputs": [
    {
     "name": "stdout",
     "output_type": "stream",
     "text": [
      "[0, 2, 1, 3, 4, 5]\n",
      "[0, 2, 1, 4, 3, 5]\n",
      "[0, 3, 4, 1, 2, 5]\n",
      "[0, 3, 4, 1, 2, 5]\n",
      "3 4 1 2 5 "
     ]
    }
   ],
   "source": [
    "# 10811 바구니 뒤집기\n",
    "\n",
    "def reverse(i, j, list):\n",
    "    new_list = []\n",
    "    for w in range(i):\n",
    "        new_list.append(list[w])\n",
    "    for x in range(j, i-1, -1):\n",
    "        new_list.append(list[x])\n",
    "    for y in range(j+1, len(list)):\n",
    "        new_list.append(list[y])\n",
    "\n",
    "    return new_list\n",
    "\n",
    "N, M = map(int, input().split())\n",
    "bucket = [i for i in range(N+1)]\n",
    "\n",
    "for _ in range(M):\n",
    "    i, j = map(int, input().split())\n",
    "    bucket = reverse(i, j, bucket)\n",
    "\n",
    "for ix in range(1, len(bucket)):\n",
    "    print(bucket[ix], end = \" \")"
   ]
  },
  {
   "cell_type": "code",
   "execution_count": 27,
   "metadata": {},
   "outputs": [
    {
     "name": "stdout",
     "output_type": "stream",
     "text": [
      "    *\n",
      "   ***\n",
      "  *****\n",
      " *******\n",
      "*********\n",
      " *******\n",
      "  *****\n",
      "   ***\n",
      "    *\n",
      "    \n"
     ]
    }
   ],
   "source": [
    "# 2444 별 찍기 - 7\n",
    "\n",
    "N = int(input())\n",
    "\n",
    "star = [' ' for _ in range(N)]\n",
    "star[N-1] = \"*\"\n",
    "\n",
    "for ix in star:\n",
    "    print(ix, end='')\n",
    "print()\n",
    "\n",
    "for i in range(1, N):\n",
    "    star[N-i-1] = \"*\"\n",
    "    star.append(\"*\")\n",
    "    \n",
    "    for ix in star:\n",
    "        print(ix, end=\"\")\n",
    "    print()\n",
    "\n",
    "for i in range(N, 0, -1):\n",
    "    star[N-i] = \" \"\n",
    "    star.pop()\n",
    "\n",
    "    for ix in star:\n",
    "        print(ix, end=\"\")\n",
    "    print()"
   ]
  },
  {
   "cell_type": "code",
   "execution_count": 21,
   "metadata": {},
   "outputs": [
    {
     "data": {
      "text/plain": [
       "['', '*', '*', '*', '*', '*', '*', '*', '*']"
      ]
     },
     "execution_count": 21,
     "metadata": {},
     "output_type": "execute_result"
    }
   ],
   "source": [
    "star[0] = ''\n",
    "star"
   ]
  },
  {
   "cell_type": "code",
   "execution_count": 11,
   "metadata": {},
   "outputs": [
    {
     "name": "stdout",
     "output_type": "stream",
     "text": [
      "0\n"
     ]
    }
   ],
   "source": [
    "# 14626 ISBN\n",
    "\n",
    "ISBN = input()\n",
    "\n",
    "check_sign = int(ISBN[-1])\n",
    "weight = [1, 3] * 6\n",
    "result = 0\n",
    "\n",
    "for i in range(len(ISBN) - 1):\n",
    "    if (ISBN[i] == \"*\"):\n",
    "        target = weight[i]\n",
    "        continue\n",
    "\n",
    "    result += int(ISBN[i]) * weight[i]\n",
    "\n",
    "for i in range(1, 10):\n",
    "    if ((result + check_sign + i * target) % 10 == 0):\n",
    "        print(i)\n",
    "        break\n",
    "else:\n",
    "    print(0)"
   ]
  },
  {
   "cell_type": "code",
   "execution_count": null,
   "metadata": {},
   "outputs": [
    {
     "name": "stdout",
     "output_type": "stream",
     "text": [
      "W\n"
     ]
    }
   ],
   "source": [
    "# 29699 Welcome to SMUPC!\n",
    "\n",
    "N = int(input())\n",
    "\n",
    "word = \"WelcomeToSMUPC\"\n",
    "print(word[N % 14 - 1])"
   ]
  },
  {
   "cell_type": "code",
   "execution_count": null,
   "metadata": {},
   "outputs": [
    {
     "ename": "KeyboardInterrupt",
     "evalue": "",
     "output_type": "error",
     "traceback": [
      "\u001b[1;31m---------------------------------------------------------------------------\u001b[0m",
      "\u001b[1;31mKeyboardInterrupt\u001b[0m                         Traceback (most recent call last)",
      "Cell \u001b[1;32mIn[6], line 6\u001b[0m\n\u001b[0;32m      3\u001b[0m n, p \u001b[38;5;241m=\u001b[39m \u001b[38;5;28mmap\u001b[39m(\u001b[38;5;28mint\u001b[39m, \u001b[38;5;28minput\u001b[39m()\u001b[38;5;241m.\u001b[39msplit())\n\u001b[0;32m      5\u001b[0m \u001b[38;5;28;01mfor\u001b[39;00m i \u001b[38;5;129;01min\u001b[39;00m \u001b[38;5;28mrange\u001b[39m(\u001b[38;5;241m1\u001b[39m, n):\n\u001b[1;32m----> 6\u001b[0m     n \u001b[38;5;241m*\u001b[39m\u001b[38;5;241m=\u001b[39m i\n\u001b[0;32m      8\u001b[0m \u001b[38;5;28mprint\u001b[39m(n \u001b[38;5;241m%\u001b[39m p)\n",
      "\u001b[1;31mKeyboardInterrupt\u001b[0m: "
     ]
    }
   ],
   "source": [
    "# 17466 N! mod P (1)\n",
    "\n",
    "import sys\n",
    "\n",
    "n, p = map(int, sys.stdin.readline().split())\n",
    "\n",
    "num = 1\n",
    "\n",
    "for i in range(2, n+1):\n",
    "    num = (num * i) % p\n",
    "\n",
    "print(num % p)"
   ]
  },
  {
   "cell_type": "code",
   "execution_count": 2,
   "metadata": {},
   "outputs": [
    {
     "name": "stdout",
     "output_type": "stream",
     "text": [
      "yes\n",
      "no\n",
      "yes\n"
     ]
    }
   ],
   "source": [
    "# 25372 성택이의 은밀한 비밀번호\n",
    "\n",
    "T = int(input())\n",
    "\n",
    "for _ in range(T):\n",
    "    passwd = input()\n",
    "\n",
    "    if (len(passwd) >= 6) and (len(passwd) <= 9):\n",
    "        print(\"yes\")\n",
    "    else:\n",
    "        print(\"no\")"
   ]
  },
  {
   "cell_type": "code",
   "execution_count": null,
   "metadata": {},
   "outputs": [],
   "source": [
    "# 3733 Share\n",
    "\n",
    "while True:\n",
    "    try:\n",
    "        n, s = map(int,input().split())\n",
    "        print(int(s//(n+1)))\n",
    "    except EOFError:\n",
    "        break"
   ]
  },
  {
   "cell_type": "code",
   "execution_count": 5,
   "metadata": {},
   "outputs": [
    {
     "name": "stdout",
     "output_type": "stream",
     "text": [
      "10\n",
      "21\n"
     ]
    }
   ],
   "source": [
    "# 5341 Pyramids\n",
    "\n",
    "while (1):\n",
    "    num = 0\n",
    "    N = int(input())\n",
    "\n",
    "    for i in range(N, 0, -1):\n",
    "        num += i\n",
    "    \n",
    "    if (N == 0):\n",
    "        break\n",
    "\n",
    "    print(num)"
   ]
  },
  {
   "cell_type": "code",
   "execution_count": 8,
   "metadata": {},
   "outputs": [
    {
     "name": "stdout",
     "output_type": "stream",
     "text": [
      "204\n",
      "303\n",
      "B101\n",
      "501\n"
     ]
    }
   ],
   "source": [
    "# 30087 진흥원 세미나\n",
    "\n",
    "N = int(input())\n",
    "\n",
    "for _ in range(N):\n",
    "    word = input()\n",
    "\n",
    "    if (word == \"Algorithm\"):\n",
    "        print(204)\n",
    "    elif (word == \"DataAnalysis\"):\n",
    "        print(207)\n",
    "    elif (word == \"ArtificialIntelligence\"):\n",
    "        print(302)\n",
    "    elif (word == \"CyberSecurity\"):\n",
    "        print(\"B101\")\n",
    "    elif (word == \"Network\"):\n",
    "        print(303)\n",
    "    elif (word == \"Startup\"):\n",
    "        print(501)\n",
    "    elif (word == \"TestStrategy\"):\n",
    "        print(105)"
   ]
  },
  {
   "cell_type": "code",
   "execution_count": 19,
   "metadata": {},
   "outputs": [
    {
     "name": "stdout",
     "output_type": "stream",
     "text": [
      "2 0\n"
     ]
    }
   ],
   "source": [
    "# 4299 AFC 윔블던\n",
    "\n",
    "sum, min = map(int, input().split())\n",
    "\n",
    "A = (sum + min)\n",
    "B = (sum - min)\n",
    "\n",
    "if (A % 2 != 0) or (B % 2 != 0) or (B < 0):\n",
    "    print(-1)\n",
    "else:\n",
    "    A //= 2\n",
    "    B //= 2\n",
    "\n",
    "    if (A < B):\n",
    "        A, B = B, A\n",
    "    print(A, B)"
   ]
  },
  {
   "cell_type": "code",
   "execution_count": 10,
   "metadata": {},
   "outputs": [
    {
     "name": "stdout",
     "output_type": "stream",
     "text": [
      "627\n"
     ]
    }
   ],
   "source": [
    "# 14470 전자레인지\n",
    "\n",
    "A = int(input())\n",
    "B = int(input())\n",
    "C = int(input())\n",
    "D = int(input())\n",
    "E = int(input())\n",
    "\n",
    "result = 0\n",
    "if (A < 0):\n",
    "    result += C * -A\n",
    "    result += D\n",
    "    result += E * B\n",
    "else:\n",
    "    result += E * (B - A)\n",
    "\n",
    "print(result)"
   ]
  },
  {
   "cell_type": "code",
   "execution_count": null,
   "metadata": {},
   "outputs": [
    {
     "name": "stdout",
     "output_type": "stream",
     "text": [
      "1\n"
     ]
    }
   ],
   "source": [
    "# 15727 조별과제를 하려는데 조장이 사라졌다\n",
    "\n",
    "T = int(input())\n",
    "\n",
    "dis = T // 5\n",
    "if (T % 5 > 0):\n",
    "    dis += 1\n",
    "\n",
    "print(dis)"
   ]
  },
  {
   "cell_type": "code",
   "execution_count": 13,
   "metadata": {},
   "outputs": [
    {
     "name": "stdout",
     "output_type": "stream",
     "text": [
      "Eurecom\n",
      "TelecomParisTech\n"
     ]
    }
   ],
   "source": [
    "# 16099 Larger Sport Facility\n",
    "\n",
    "T = int(input())\n",
    "\n",
    "for _ in range(T):\n",
    "    t_w, t_h, e_w, e_h = map(int, input().split())\n",
    "\n",
    "    if (t_w * t_h < e_w * e_h):\n",
    "        print(\"Eurecom\")\n",
    "    elif (t_w * t_h > e_w * e_h):\n",
    "        print(\"TelecomParisTech\")\n",
    "    else:\n",
    "        print(\"Tie\")"
   ]
  },
  {
   "cell_type": "code",
   "execution_count": 15,
   "metadata": {},
   "outputs": [
    {
     "name": "stdout",
     "output_type": "stream",
     "text": [
      "B\n",
      "A\n",
      "B\n"
     ]
    }
   ],
   "source": [
    "# 2490 윷놀이\n",
    "\n",
    "for _ in range(3):\n",
    "    s = list(map(int, input().split()))\n",
    "    if (sum(s) == 3):\n",
    "        print(\"A\")\n",
    "    elif (sum(s) == 2):\n",
    "        print(\"B\")\n",
    "    elif (sum(s) == 1):\n",
    "        print(\"C\")\n",
    "    elif (sum(s) == 0):\n",
    "        print(\"D\")\n",
    "    else:\n",
    "        print(\"E\")"
   ]
  },
  {
   "cell_type": "code",
   "execution_count": 19,
   "metadata": {},
   "outputs": [
    {
     "name": "stdout",
     "output_type": "stream",
     "text": [
      "4 2 5 3 1\n"
     ]
    }
   ],
   "source": [
    "# 2605 줄 세우기\n",
    "\n",
    "N = int(input())\n",
    "num = list(map(int, input().split()))\n",
    "\n",
    "li = []\n",
    "for i in range(1, N+1):\n",
    "    if (num[i-1] == 0):\n",
    "        li.append(i)\n",
    "    else:\n",
    "        li.insert(len(li) - num[i-1], i)\n",
    "\n",
    "print(*li)"
   ]
  },
  {
   "cell_type": "code",
   "execution_count": null,
   "metadata": {},
   "outputs": [
    {
     "name": "stdout",
     "output_type": "stream",
     "text": [
      "HIGHSCHOOL\n"
     ]
    }
   ],
   "source": [
    "# 28235 코드 마스터\n",
    "\n",
    "word = input()\n",
    "\n",
    "if (word == \"SONGDO\"):\n",
    "    print(\"HIGHSCHOOL\")\n",
    "elif (word == \"CODE\"):\n",
    "    print(\"MASTER\")\n",
    "elif (word == \"2023\"):\n",
    "    print(\"0611\")\n",
    "elif (word == \"ALGORITHM\"):\n",
    "    print(\"CONTEST\")\n"
   ]
  },
  {
   "cell_type": "code",
   "execution_count": 18,
   "metadata": {},
   "outputs": [
    {
     "name": "stdout",
     "output_type": "stream",
     "text": [
      "24\n"
     ]
    }
   ],
   "source": [
    "# 18301 Rats\n",
    "\n",
    "a, b, c = map(int, input().split())\n",
    "\n",
    "print(int((a + 1) * (b + 1) / (c + 1) - 1))"
   ]
  },
  {
   "cell_type": "code",
   "execution_count": 4,
   "metadata": {},
   "outputs": [
    {
     "name": "stdout",
     "output_type": "stream",
     "text": [
      "1\n"
     ]
    }
   ],
   "source": [
    "# 10807 개수 세기\n",
    "# 총 N개의 정수가 주어졌을 때, 정수 v가 몇 개인지 구하는 프로그램\n",
    "\n",
    "num = int(input())\n",
    "numList = list(map(int, input().split()))\n",
    "value = int(input())\n",
    "\n",
    "count = 0\n",
    "\n",
    "for i in range(num):\n",
    "    if (numList[i] == value):\n",
    "        count = count + 1\n",
    "\n",
    "print(count)"
   ]
  },
  {
   "cell_type": "code",
   "execution_count": 73,
   "metadata": {},
   "outputs": [
    {
     "name": "stdout",
     "output_type": "stream",
     "text": [
      "27\n",
      "28\n"
     ]
    }
   ],
   "source": [
    "# 5597 과제 안 내신 분..?\n",
    "# 1 ~ 30번 까지의 출석 번호 중, 과제를 제출하지 않은 번호 2개를 출력하는 프로그램\n",
    "# 입력 : 28줄, 출력 : 2줄\n",
    "\n",
    "ran = 29\n",
    "\n",
    "a = list(range(1, 31))\n",
    "    \n",
    "for i in range(28):\n",
    "    num = int(input())\n",
    "    for j in range(ran):\n",
    "        if (a[j] == num):\n",
    "            a.remove(num)\n",
    "            ran = ran - 1\n",
    "\n",
    "for i in range(2):\n",
    "    print(a[i])"
   ]
  },
  {
   "cell_type": "code",
   "execution_count": 90,
   "metadata": {},
   "outputs": [
    {
     "name": "stdout",
     "output_type": "stream",
     "text": [
      "4\n"
     ]
    }
   ],
   "source": [
    "# 3052 나머지\n",
    "# 수 10개를 입력받은 뒤, 42로 나눈 나머지를 구하고, 서로 다른 값이 몇 개 있는지 출력하는 프로그램\n",
    "\n",
    "a = []\n",
    "count = 0\n",
    "\n",
    "for i in range(10):\n",
    "    num = int(input())\n",
    "    a.append(num % 42)\n",
    "\n",
    "new_a = list(set(a))\n",
    "\n",
    "print(len(new_a))"
   ]
  },
  {
   "cell_type": "code",
   "execution_count": 97,
   "metadata": {},
   "outputs": [
    {
     "name": "stdout",
     "output_type": "stream",
     "text": [
      "3\n",
      "5\n",
      "7\n",
      "11\n",
      "15\n"
     ]
    }
   ],
   "source": [
    "# 10953 A+B - 6\n",
    "# 첫번째 줄에 테스트케이스 T가 주어지고, 각 테스트 케이스는 한 줄로 (A,B)로 이루어져있다. A + B 값을 출력하는 프로그램\n",
    "\n",
    "T = int(input())\n",
    "\n",
    "for i in range(T):\n",
    "    ipt = input().split(',')\n",
    "    a, b = map(int, ipt)\n",
    "    sum = a + b\n",
    "    print(sum)"
   ]
  },
  {
   "cell_type": "code",
   "execution_count": 1,
   "metadata": {},
   "outputs": [],
   "source": [
    "class Dog:\n",
    "    def __init__(self, name, age):\n",
    "        self.name = name\n",
    "        self.age = age\n",
    "    def eat(self, food):\n",
    "        self.food = food\n",
    "        print(self.name, \"가\", self.food, \"를 먹습니다.\")\n",
    "        print(f\"{self.name}가 {self.food}를 먹습니다.\")\n",
    "    def sleep(self):\n",
    "        print(self.name, \"가 쿨쿨 잡니다.\")"
   ]
  },
  {
   "cell_type": "code",
   "execution_count": 2,
   "metadata": {},
   "outputs": [
    {
     "name": "stdout",
     "output_type": "stream",
     "text": [
      "바둑이 가 쿨쿨 잡니다.\n",
      "바둑이 가 과자 를 먹습니다.\n",
      "바둑이가 과자를 먹습니다.\n"
     ]
    }
   ],
   "source": [
    "dog1 = Dog(\"바둑이\", 2)\n",
    "dog1.sleep()\n",
    "dog1.eat(\"과자\")"
   ]
  },
  {
   "cell_type": "code",
   "execution_count": 13,
   "metadata": {},
   "outputs": [
    {
     "name": "stdout",
     "output_type": "stream",
     "text": [
      "19\n"
     ]
    }
   ],
   "source": [
    "# 3046 R2\n",
    "# 두 숫자 R1, R2 중 평균 S = (R1 + R2) / 2일때, R1과 S만 주어졌을 경우 R2를 구하는 프로그램\n",
    "\n",
    "R1, S = map(int, input().split())\n",
    "R2 = S * 2 - R1\n",
    "\n",
    "print(R2)"
   ]
  },
  {
   "cell_type": "code",
   "execution_count": 14,
   "metadata": {},
   "outputs": [
    {
     "name": "stdout",
     "output_type": "stream",
     "text": [
      "8\n"
     ]
    }
   ],
   "source": [
    "# 2163 초콜릿 자르기\n",
    "# N x M 크기의 초콜렛을 1 x 1 크기의 N * M개의 초콜렛으로 나누는 프로그램\n",
    "\n",
    "N, M = map(int, input().split())\n",
    "\n",
    "div = N * M - 1\n",
    "print(div)"
   ]
  },
  {
   "cell_type": "code",
   "execution_count": 22,
   "metadata": {},
   "outputs": [
    {
     "name": "stdout",
     "output_type": "stream",
     "text": [
      "2024-9-28\n",
      "2024-09-28\n"
     ]
    }
   ],
   "source": [
    "# 10699 오늘 날짜\n",
    "# 오늘 날짜를 출력하는 프로그램\n",
    "\n",
    "import datetime as dt\n",
    "\n",
    "date = dt.datetime.now()\n",
    "\n",
    "print(date.strftime(\"%Y-%m-%d\"))"
   ]
  },
  {
   "cell_type": "code",
   "execution_count": 16,
   "metadata": {},
   "outputs": [
    {
     "name": "stdout",
     "output_type": "stream",
     "text": [
      "0 30 54\n"
     ]
    }
   ],
   "source": [
    "# 2530 인공지능 시계\n",
    "# 첫째 줄에는 현재 시각, 둘째 줄에는 요리에 필요한 시간이 초 단위로 주어질 때 끝나는 시간을 출력하는 프로그램\n",
    "\n",
    "hour, minute, second = map(int, input().split())\n",
    "time = int(input()) # 초 단위 입력\n",
    "\n",
    "new_second = second + time\n",
    "new_minute = minute + new_second // 60\n",
    "new_hour = hour + new_minute // 60\n",
    "\n",
    "if (new_second > 59):\n",
    "    new_second = new_second % 60\n",
    "    if (new_second == 60):\n",
    "        new_second = 0\n",
    "if (new_minute > 59):\n",
    "    new_minute = new_minute % 60\n",
    "    if (new_minute == 60):\n",
    "        new_minute = 0\n",
    "if (new_hour > 23):\n",
    "    new_hour = new_hour % 24\n",
    "\n",
    "print(new_hour, new_minute, new_second)"
   ]
  },
  {
   "cell_type": "code",
   "execution_count": 4,
   "metadata": {},
   "outputs": [
    {
     "data": {
      "text/plain": [
       "1"
      ]
     },
     "execution_count": 4,
     "metadata": {},
     "output_type": "execute_result"
    }
   ],
   "source": [
    "# 2475 검증수\n",
    "# 고유번호 6자리 중 처음 5자리는 00000 ~ 99999 사이의 한 수, 6번째 자리 수는 5개 숫자를 각각 제곱한 수의 합을 10으로 나눈 수이다.\n",
    "\n",
    "num = list(map(int, input().split()))\n",
    "num = [x ** 2 for x in num]\n",
    "a = sum(num) % 10\n",
    "a"
   ]
  },
  {
   "cell_type": "code",
   "execution_count": 8,
   "metadata": {},
   "outputs": [
    {
     "name": "stdout",
     "output_type": "stream",
     "text": [
      "50\n"
     ]
    }
   ],
   "source": [
    "# 11654 아스키코드\n",
    "# 알파벳 대소문자, 숫자 0 ~ 9를 입력 받았을 때, 아스키 코드 값을 출력하는 프로그램\n",
    "\n",
    "aschi = input()\n",
    "aschi_num = ord(aschi)\n",
    "print(aschi_num)"
   ]
  },
  {
   "cell_type": "code",
   "execution_count": 20,
   "metadata": {},
   "outputs": [
    {
     "name": "stdout",
     "output_type": "stream",
     "text": [
      "r\n"
     ]
    }
   ],
   "source": [
    "# 27866 문자와 문자열\n",
    "# 단어 S와 정수 i가 주어졌을 때, S의 i번째 글자를 출력하는 프로그램\n",
    "\n",
    "word = input()\n",
    "num = int(input())\n",
    "\n",
    "print(word[num - 1])"
   ]
  },
  {
   "cell_type": "code",
   "execution_count": 2,
   "metadata": {},
   "outputs": [
    {
     "name": "stdout",
     "output_type": "stream",
     "text": [
      "0\n",
      "9\n"
     ]
    }
   ],
   "source": [
    "# 31403 $A + B - C$\n",
    "\n",
    "A = input()\n",
    "B = input()\n",
    "C = input()\n",
    "\n",
    "print(int(A) + int(B) - int(C))\n",
    "\n",
    "print(int(A + B) - int(C))"
   ]
  },
  {
   "cell_type": "code",
   "execution_count": 47,
   "metadata": {},
   "outputs": [
    {
     "name": "stdout",
     "output_type": "stream",
     "text": [
      "303\n"
     ]
    }
   ],
   "source": [
    "# 10250 ACM 호텔\n",
    "# 프로그램은 표준 입력에서 입력 데이터를 받는다. \n",
    "# 프로그램의 입력은 T 개의 테스트 데이터로 이루어져 있는데 T 는 입력의 맨 첫 줄에 주어진다. \n",
    "# 각 테스트 데이터는 한 행으로서 H, W, N, 세 정수를 포함하고 있으며 각각 호텔의 층 수, 각 층의 방 수, 몇 번째 손님인지를 나타낸다(1 ≤ H, W ≤ 99, 1 ≤ N ≤ H × W). \n",
    "\n",
    "test = int(input())\n",
    "\n",
    "for i in range(test):\n",
    "    height, width, number = list(map(int, input().split()))\n",
    "\n",
    "    Y = number % height\n",
    "    X = number // height + 1\n",
    "    if (Y == 0):\n",
    "        Y = height\n",
    "        X -= 1\n",
    "\n",
    "    print(Y * 100 + X)"
   ]
  },
  {
   "cell_type": "code",
   "execution_count": 59,
   "metadata": {},
   "outputs": [
    {
     "name": "stdout",
     "output_type": "stream",
     "text": [
      "5\n"
     ]
    }
   ],
   "source": [
    "# 1152 단어의 개수\n",
    "\n",
    "text = input().strip().split()\n",
    "a = len(text)\n",
    "print(a)"
   ]
  },
  {
   "cell_type": "code",
   "execution_count": 17,
   "metadata": {},
   "outputs": [
    {
     "name": "stdout",
     "output_type": "stream",
     "text": [
      "aaasssddd\n",
      "aaaaasssssdddddkkkkkhhhhh\n"
     ]
    }
   ],
   "source": [
    "# 2675 문자열 반복\n",
    "\n",
    "word2 = []\n",
    "test = int(input())\n",
    "\n",
    "for i in range(test):\n",
    "    num, word = input().split()\n",
    "    num = int(num)\n",
    "    for j in range(len(word)):\n",
    "        print(word[j] * num, end='')\n",
    "    print(\"\")"
   ]
  },
  {
   "cell_type": "code",
   "execution_count": 15,
   "metadata": {},
   "outputs": [
    {
     "name": "stdout",
     "output_type": "stream",
     "text": [
      "ascending\n"
     ]
    }
   ],
   "source": [
    "# 2920 음계\n",
    "\n",
    "a = input()\n",
    "\n",
    "if (a == \"1 2 3 4 5 6 7 8\"):\n",
    "    print(\"ascending\")\n",
    "elif (a == \"8 7 6 5 4 3 2 1\"):\n",
    "    print(\"descending\")\n",
    "else:\n",
    "    print(\"mixed\")"
   ]
  },
  {
   "cell_type": "code",
   "execution_count": 38,
   "metadata": {},
   "outputs": [
    {
     "name": "stdout",
     "output_type": "stream",
     "text": [
      "10\n",
      "9\n",
      "7\n",
      "55\n",
      "30\n"
     ]
    }
   ],
   "source": [
    "# 8958 OX퀴즈\n",
    "\n",
    "test = int(input())\n",
    "\n",
    "for i in range(test):\n",
    "    O_X = input()\n",
    "    result = 0\n",
    "    score = 0\n",
    "    for j in range(len(O_X)):\n",
    "        if (O_X[j] == \"O\"):\n",
    "            score += 1\n",
    "            result += score\n",
    "        elif (O_X[j] == \"X\"):\n",
    "            score = 0\n",
    "    print(result)"
   ]
  },
  {
   "cell_type": "code",
   "execution_count": 4,
   "metadata": {},
   "outputs": [
    {
     "name": "stdout",
     "output_type": "stream",
     "text": [
      "-1 -1 -1 -1 -1 -1 -1 -1 -1 -1 -1 -1 -1 -1 -1 -1 -1 -1 -1 -1 -1 -1 -1 -1 -1 -1\n"
     ]
    }
   ],
   "source": [
    "# 10809 알파벳 찾기\n",
    "\n",
    "word = input()\n",
    "\n",
    "alpList = [-1] * 26\n",
    "for i in range(len(word)):\n",
    "    index = ord(word[i]) - 97\n",
    "    if (alpList[index] == -1):\n",
    "        alpList[index] = i\n",
    "\n",
    "print(*alpList)"
   ]
  },
  {
   "cell_type": "code",
   "execution_count": null,
   "metadata": {},
   "outputs": [
    {
     "name": "stdout",
     "output_type": "stream",
     "text": [
      "2\n",
      "32\n",
      "4\n",
      "34\n",
      "34\n"
     ]
    }
   ],
   "source": [
    "# 28702 FizzBuzz\n",
    "# 3의 배수 = Fizz, 5의 배수 = Buzz, 3의 배수 & 5의 배수 = FizzBuzz, else = Numeric\n",
    "\n",
    "case = []\n",
    "\n",
    "# case 리스트 만들기\n",
    "for i in range(3):\n",
    "    word = input()\n",
    "    \n",
    "    if (word == \"FizzBuzz\"):\n",
    "        case.append(\"fb\")\n",
    "    elif (word == \"Fizz\"):\n",
    "        case.append(\"f\")\n",
    "    elif (word == \"Buzz\"):\n",
    "        case.append(\"b\")\n",
    "    else:\n",
    "        num = int(word)\n",
    "        case.append(\"n\")\n",
    "\n",
    "# case리스트 내 정수의 위치 확인\n",
    "for i in range(len(case)):\n",
    "    if(case[i] == \"n\"):\n",
    "        pos = 3 - i\n",
    "\n",
    "# 결과값의 위치(1 ~ 15) num의 수에 따라 result가 결정 됨\n",
    "for i in range (1, 16):\n",
    "    if (i == num % 15):\n",
    "        result_pos = i + pos\n",
    "        result = result_pos + (num // 15) * 15\n",
    "\n",
    "def final(n):\n",
    "    if (n % 3 == 0) & (n % 5 == 0):\n",
    "        print(\"FizzBuzz\")\n",
    "    elif (n % 3 == 0) & (n % 5 != 0):\n",
    "        print(\"Fizz\")\n",
    "    elif (n % 5 == 0) & (n % 3 != 0):\n",
    "        print(\"Buzz\")\n",
    "    else:\n",
    "        print(n)\n",
    "\n",
    "final(result)"
   ]
  },
  {
   "cell_type": "code",
   "execution_count": 18,
   "metadata": {},
   "outputs": [
    {
     "name": "stdout",
     "output_type": "stream",
     "text": [
      "right\n"
     ]
    }
   ],
   "source": [
    "# 4153 직각삼각형\n",
    "\n",
    "while (True):\n",
    "    A, B, C = map(int, input().split())\n",
    "    if (A == 0) and (B == 0) and (C == 0):\n",
    "        break\n",
    "    elif (A > B) and (A > C):\n",
    "        if (A * A == B * B + C * C):\n",
    "            print(\"right\")\n",
    "        else:\n",
    "            print(\"wrong\")\n",
    "    elif (B > C):\n",
    "        if (B * B == A * A + C * C):\n",
    "            print(\"right\")\n",
    "        else:\n",
    "            print(\"wrong\")\n",
    "    else:\n",
    "        if (C * C == A * A + B * B):\n",
    "            print(\"right\")\n",
    "        else:\n",
    "            print(\"wrong\")"
   ]
  },
  {
   "cell_type": "code",
   "execution_count": 26,
   "metadata": {},
   "outputs": [
    {
     "name": "stdout",
     "output_type": "stream",
     "text": [
      "7\n",
      "3 2\n"
     ]
    }
   ],
   "source": [
    "# 30802 웰컴 키트\n",
    "\n",
    "num = int(input())\n",
    "size = list(map(int, input().split()))\n",
    "t, p = map(int, input().split())\n",
    "\n",
    "count = 0\n",
    "for i in range(len(size)):\n",
    "    if (size[i] % t == 0):\n",
    "        count += size[i] // t\n",
    "    else:\n",
    "        count += size[i] // t + 1\n",
    "\n",
    "pen = [num // p, num % p]\n",
    "\n",
    "print(count)\n",
    "print(pen[0], pen[1])"
   ]
  },
  {
   "cell_type": "code",
   "execution_count": 56,
   "metadata": {},
   "outputs": [
    {
     "name": "stdout",
     "output_type": "stream",
     "text": [
      "3\n"
     ]
    }
   ],
   "source": [
    "# 1978 소수 찾기\n",
    "\n",
    "n = int(input())\n",
    "data = list(map(int, input().split()))\n",
    "count = 0\n",
    "\n",
    "for x in data:\n",
    "    for i in range(2, x+1):\n",
    "        if x % i == 0:\n",
    "            if x == i:\n",
    "                count += 1\n",
    "\n",
    "            break\n",
    "\n",
    "print(count)"
   ]
  },
  {
   "cell_type": "code",
   "execution_count": 3,
   "metadata": {},
   "outputs": [
    {
     "name": "stdout",
     "output_type": "stream",
     "text": [
      "497\n"
     ]
    }
   ],
   "source": [
    "# 2798 블랙잭\n",
    "\n",
    "num, max_num = map(int, input().split())\n",
    "card = list(map(int, input().split()))\n",
    "l = len(card)\n",
    "\n",
    "sum_list = []\n",
    "for i in range(l-2):\n",
    "    for j in range(i+1, l-1):\n",
    "        for k in range(j+1, l):\n",
    "            sum = card[i] + card[j] + card[k]\n",
    "            if (sum <= max_num):\n",
    "                sum_list.append(sum)\n",
    "\n",
    "print(max(sum_list))"
   ]
  },
  {
   "cell_type": "code",
   "execution_count": 14,
   "metadata": {},
   "outputs": [
    {
     "name": "stdout",
     "output_type": "stream",
     "text": [
      "3\n"
     ]
    }
   ],
   "source": [
    "# 2292 벌집\n",
    "\n",
    "num = int(input())\n",
    "numbox = 1\n",
    "cnt = 1\n",
    "\n",
    "while (num > numbox):\n",
    "    numbox += 6 * cnt\n",
    "    cnt += 1\n",
    "print(cnt)"
   ]
  },
  {
   "cell_type": "code",
   "execution_count": 2,
   "metadata": {},
   "outputs": [
    {
     "name": "stdout",
     "output_type": "stream",
     "text": [
      "7\n"
     ]
    }
   ],
   "source": [
    "# 15964 이상한 기호\n",
    "\n",
    "def sum(a, b):\n",
    "    return a + b\n",
    "\n",
    "def min(a, b):\n",
    "    return a - b\n",
    "\n",
    "a, b = map(int, input().split())\n",
    "\n",
    "mul = sum(a, b) * min(a, b)\n",
    "print(mul)"
   ]
  },
  {
   "cell_type": "code",
   "execution_count": 3,
   "metadata": {},
   "outputs": [
    {
     "name": "stdout",
     "output_type": "stream",
     "text": [
      "3\n"
     ]
    }
   ],
   "source": [
    "# 2743 단어 길이 재기\n",
    "\n",
    "word = input()\n",
    "\n",
    "print(len(word))"
   ]
  },
  {
   "cell_type": "code",
   "execution_count": 5,
   "metadata": {},
   "outputs": [
    {
     "name": "stdout",
     "output_type": "stream",
     "text": [
      "sTRING\n"
     ]
    }
   ],
   "source": [
    "# 2744 대소문자 바꾸기\n",
    "\n",
    "word = input()\n",
    "word = word.swapcase()\n",
    "print(word)"
   ]
  },
  {
   "cell_type": "code",
   "execution_count": 10,
   "metadata": {},
   "outputs": [
    {
     "name": "stdout",
     "output_type": "stream",
     "text": [
      "4.0\n"
     ]
    }
   ],
   "source": [
    "# 2754 학점계산\n",
    "\n",
    "score = input()\n",
    "\n",
    "if (score == \"A+\"):\n",
    "    print(4.3)\n",
    "elif (score == \"A0\"):\n",
    "    print(4.0)\n",
    "elif (score == \"A-\"):\n",
    "    print(3.7)\n",
    "elif (score == \"B+\"):\n",
    "    print(3.3)\n",
    "elif (score == \"B0\"):\n",
    "    print(3.0)\n",
    "elif (score == \"B-\"):\n",
    "    print(2.7)\n",
    "elif (score == \"C+\"):\n",
    "    print(2.3)\n",
    "elif (score == \"C0\"):\n",
    "    print(2.0)\n",
    "elif (score == \"C-\"):\n",
    "    print(1.7)\n",
    "elif (score == \"D+\"):\n",
    "    print(1.3)\n",
    "elif (score == \"D0\"):\n",
    "    print(1.0)\n",
    "elif (score == \"D-\"):\n",
    "    print(0.7)\n",
    "elif (score == \"F\"):\n",
    "    print(0.0)"
   ]
  },
  {
   "cell_type": "code",
   "execution_count": null,
   "metadata": {},
   "outputs": [
    {
     "name": "stdout",
     "output_type": "stream",
     "text": [
      "Hello\n",
      "asd\n",
      "q\n",
      "das\n",
      "d\n",
      "as\n",
      "a\n",
      "asd\n",
      "das\n",
      "asd\n",
      "asd\n",
      "das\n",
      "das\n",
      "ads\n",
      "\n",
      "\n",
      "\n",
      "\n",
      "\n",
      "\n",
      "\n",
      "\n",
      "\n",
      "\n",
      "\n",
      "\n",
      "\n",
      "\n",
      "\n",
      "\n",
      "\n",
      "\n",
      "\n",
      "\n",
      "\n",
      "\n",
      "\n",
      "\n",
      "\n",
      "\n",
      "\n",
      "\n",
      "\n",
      "\n",
      "\n",
      "\n",
      "\n",
      "\n",
      "\n",
      "\n",
      "\n"
     ]
    }
   ],
   "source": [
    "# 11718 그대로 출력하기\n",
    "\n",
    "for i in range(100):\n",
    "    word = input()\n",
    "    print(word)\n"
   ]
  },
  {
   "cell_type": "code",
   "execution_count": 5,
   "metadata": {},
   "outputs": [
    {
     "name": "stdout",
     "output_type": "stream",
     "text": [
      "dd\n"
     ]
    }
   ],
   "source": [
    "# 9086 문자열\n",
    "\n",
    "num = int(input())\n",
    "\n",
    "for i in range(num):\n",
    "    word = input()\n",
    "    print(f\"{word[0]}{word[len(word)-1]}\")"
   ]
  },
  {
   "cell_type": "code",
   "execution_count": 9,
   "metadata": {},
   "outputs": [
    {
     "name": "stdout",
     "output_type": "stream",
     "text": [
      "4 4 4 \n",
      "6 6 6 \n",
      "5 6 100 \n"
     ]
    }
   ],
   "source": [
    "# 2738 행렬 덧셈\n",
    "\n",
    "A = []\n",
    "B = []\n",
    "\n",
    "N, M = map(int, input().split())\n",
    "\n",
    "for i in range(N):\n",
    "    row = list(map(int, input().split()))\n",
    "    A.append(row)\n",
    "\n",
    "for i in range(N):\n",
    "    row = list(map(int, input().split()))\n",
    "    B.append(row)\n",
    "\n",
    "for i in range(N):\n",
    "    for j in range(M):\n",
    "        sum = A[i][j] + B[i][j]\n",
    "        print(sum, end = ' ')\n",
    "    print()"
   ]
  },
  {
   "cell_type": "code",
   "execution_count": 22,
   "metadata": {},
   "outputs": [
    {
     "name": "stdout",
     "output_type": "stream",
     "text": [
      "198\n"
     ]
    }
   ],
   "source": [
    "# 2331 분해합\n",
    "# 분해합 = 생성자 + 생성자의 각 자리수의 합. ex) 256 = 245 + 2 + 4 + 5\n",
    "# 분해합을 입력으로 받았을 때, 가장 작은 생성자를 구하여라.\n",
    "\n",
    "num = int(input())\n",
    "\n",
    "for i in range(1, num + 1): # i는 1부터 num까지,\n",
    "    integer = sum(map(int, str(i))) # i의 각 자리수의 합\n",
    "    num_sum = i + integer # 분해합 = 생성자 + 각 자리수의 합\n",
    "\n",
    "    if (num == num_sum):    # num_sum과 num이 같을 경우,\n",
    "        print(i)\n",
    "        break\n",
    "    if (i == num):\n",
    "        print(0)\n"
   ]
  },
  {
   "cell_type": "code",
   "execution_count": 33,
   "metadata": {},
   "outputs": [
    {
     "name": "stdout",
     "output_type": "stream",
     "text": [
      "25818\n"
     ]
    }
   ],
   "source": [
    "# 15829 Hashing\n",
    "\n",
    "num = int(input())\n",
    "word = input()\n",
    "sum = 0\n",
    "\n",
    "for i in range(num):\n",
    "    word_num = ord(word[i]) - 96\n",
    "    sum = sum + (31 ** i * word_num)\n",
    "\n",
    "print(sum % 1234567891)"
   ]
  },
  {
   "cell_type": "code",
   "execution_count": 11,
   "metadata": {},
   "outputs": [
    {
     "name": "stdout",
     "output_type": "stream",
     "text": [
      "1001 yes\n",
      "1111 yes\n",
      "1221 yes\n"
     ]
    },
    {
     "ename": "ValueError",
     "evalue": "invalid literal for int() with base 10: ''",
     "output_type": "error",
     "traceback": [
      "\u001b[1;31m---------------------------------------------------------------------------\u001b[0m",
      "\u001b[1;31mValueError\u001b[0m                                Traceback (most recent call last)",
      "Cell \u001b[1;32mIn[11], line 24\u001b[0m\n\u001b[0;32m     21\u001b[0m             \u001b[38;5;28;01mreturn\u001b[39;00m \u001b[38;5;124m\"\u001b[39m\u001b[38;5;124mno\u001b[39m\u001b[38;5;124m\"\u001b[39m\n\u001b[0;32m     23\u001b[0m \u001b[38;5;28;01mwhile\u001b[39;00m(\u001b[38;5;28;01mTrue\u001b[39;00m):\n\u001b[1;32m---> 24\u001b[0m     case \u001b[38;5;241m=\u001b[39m \u001b[38;5;28mint\u001b[39m(\u001b[38;5;28minput\u001b[39m())\n\u001b[0;32m     25\u001b[0m     num_len \u001b[38;5;241m=\u001b[39m \u001b[38;5;28mstr\u001b[39m(case)\n\u001b[0;32m     27\u001b[0m     \u001b[38;5;28;01mif\u001b[39;00m(case \u001b[38;5;241m==\u001b[39m \u001b[38;5;241m0\u001b[39m):\n",
      "\u001b[1;31mValueError\u001b[0m: invalid literal for int() with base 10: ''"
     ]
    }
   ],
   "source": [
    "# 1259 펠린드롬수\n",
    "\n",
    "def felind(n):\n",
    "    count = 0\n",
    "\n",
    "    # 입력받은 수의 길이가 짝수일 때\n",
    "    if (len(n) % 2 == 0):\n",
    "        for i in range(len(n) // 2):\n",
    "            if(n[i] == n[len(n) - 1 - i]):\n",
    "                count += 1\n",
    "        if (count == len(n) // 2 ):\n",
    "            return \"yes\"\n",
    "        else:\n",
    "            return \"no\"\n",
    "    \n",
    "    # 입력 받은 수의 길이가 홀수일 때\n",
    "    if (len(n) % 2 == 1):\n",
    "        for i in range(len(n) // 2 + 1):\n",
    "            if(n[i] == n[len(n) - 1 - i]):\n",
    "                count += 1\n",
    "        if (count == len(n) // 2 + 1):\n",
    "            return \"yes\"\n",
    "        else:\n",
    "            return \"no\"\n",
    "\n",
    "while(True):\n",
    "    case = int(input())\n",
    "    num_len = str(case)\n",
    "\n",
    "    if(case == 0):\n",
    "        break\n",
    "    print(felind(num_len))\n"
   ]
  },
  {
   "cell_type": "code",
   "execution_count": null,
   "metadata": {},
   "outputs": [
    {
     "name": "stdout",
     "output_type": "stream",
     "text": [
      "5050\n",
      "25502500\n",
      "25502500\n"
     ]
    }
   ],
   "source": [
    "# 28701 세제곱의 합\n",
    "\n",
    "num = int(input())\n",
    "\n",
    "sum = 0\n",
    "square = 0\n",
    "volume = 0\n",
    "\n",
    "for i in range(num):\n",
    "    sum += (i + 1)\n",
    "    volume += (i + 1) ** 3\n",
    "\n",
    "square = sum ** 2\n",
    "\n",
    "print(sum)\n",
    "print(square)\n",
    "print(volume)"
   ]
  },
  {
   "cell_type": "code",
   "execution_count": null,
   "metadata": {},
   "outputs": [
    {
     "name": "stdout",
     "output_type": "stream",
     "text": [
      "2\n"
     ]
    }
   ],
   "source": [
    "# 26068 치킨댄스를 추는 곰곰이를 본 임스 2\n",
    "\n",
    "n = int(input())\n",
    "\n",
    "count = 0\n",
    "for i in range(n):\n",
    "    d, num = input().split('-')\n",
    "    if (int(num) <= 90):\n",
    "        count += 1\n",
    "\n",
    "print(count)"
   ]
  },
  {
   "cell_type": "code",
   "execution_count": 30,
   "metadata": {},
   "outputs": [
    {
     "ename": "ValueError",
     "evalue": "max() arg is an empty sequence",
     "output_type": "error",
     "traceback": [
      "\u001b[1;31m---------------------------------------------------------------------------\u001b[0m",
      "\u001b[1;31mValueError\u001b[0m                                Traceback (most recent call last)",
      "Cell \u001b[1;32mIn[30], line 16\u001b[0m\n\u001b[0;32m     13\u001b[0m         \u001b[38;5;28;01mif\u001b[39;00m(a \u001b[38;5;241m%\u001b[39m i \u001b[38;5;241m==\u001b[39m \u001b[38;5;241m0\u001b[39m \u001b[38;5;129;01mand\u001b[39;00m b \u001b[38;5;241m%\u001b[39m i \u001b[38;5;241m==\u001b[39m \u001b[38;5;241m0\u001b[39m):\n\u001b[0;32m     14\u001b[0m             max_num\u001b[38;5;241m.\u001b[39mappend(i)\n\u001b[1;32m---> 16\u001b[0m     \u001b[38;5;28mprint\u001b[39m(\u001b[38;5;28mmax\u001b[39m(max_num))\n\u001b[0;32m     18\u001b[0m \u001b[38;5;66;03m# 최소공배수\u001b[39;00m\n\u001b[0;32m     19\u001b[0m a_mul \u001b[38;5;241m=\u001b[39m []\n",
      "\u001b[1;31mValueError\u001b[0m: max() arg is an empty sequence"
     ]
    }
   ],
   "source": [
    "# 2609 최대공약수와 최소공배수\n",
    "\n",
    "a, b = map(int, input().split())\n",
    "\n",
    "max_num = []\n",
    "min_num = []\n",
    "\n",
    "# 최대공약수\n",
    "if (a == 1 or b == 1):\n",
    "    print(1)\n",
    "else:\n",
    "    for i in range(2, a+1):\n",
    "        if(a % i == 0 and b % i == 0):\n",
    "            max_num.append(i)\n",
    "\n",
    "    print(max(max_num))\n",
    "\n",
    "# 최소공배수\n",
    "a_mul = []\n",
    "b_mul = []\n",
    "\n",
    "if (a == 1):\n",
    "    print(b)\n",
    "else:\n",
    "    for i in range(1, a+1):\n",
    "        a_mul.append(a * i)\n",
    "        b_mul.append(b * i)\n",
    "\n",
    "    for j in range(len(a_mul)):\n",
    "        for k in range(len(b_mul)):\n",
    "            if (a_mul[j] == b_mul[k]):\n",
    "                min_num.append(a_mul[j])\n",
    "\n",
    "    print(min(min_num))"
   ]
  },
  {
   "cell_type": "code",
   "execution_count": 31,
   "metadata": {},
   "outputs": [
    {
     "name": "stdout",
     "output_type": "stream",
     "text": [
      "6\n",
      "72\n"
     ]
    }
   ],
   "source": [
    "# 2609 최대공약수와 최소공배수\n",
    "\n",
    "a, b = map(int, input().split())\n",
    "\n",
    "def gcd(a, b):\n",
    "    while b > 0:\n",
    "        a, b = b, a % b\n",
    "    return a\n",
    "\n",
    "def lcm(a, b):\n",
    "    return a * b // gcd(a, b)\n",
    "\n",
    "print(gcd(a, b))\n",
    "print(lcm(a, b))"
   ]
  },
  {
   "cell_type": "code",
   "execution_count": 38,
   "metadata": {},
   "outputs": [
    {
     "name": "stdout",
     "output_type": "stream",
     "text": [
      "6\n",
      "10\n"
     ]
    }
   ],
   "source": [
    "# 2775 부녀회장이 될테야\n",
    "\n",
    "T = int(input())\n",
    "\n",
    "floor = []\n",
    "for i in range(T):\n",
    "    k = int(input())\n",
    "    n = int(input())\n",
    "    \n",
    "    floor_0 = [x for x in range(1, n+1)]\n",
    "    for j in range(k):\n",
    "        for k in range(n):\n",
    "            floor.append(sum(floor_0[:k+1]))\n",
    "        floor_0 = floor.copy()\n",
    "    print(floor[-1])"
   ]
  },
  {
   "cell_type": "code",
   "execution_count": null,
   "metadata": {},
   "outputs": [
    {
     "name": "stdout",
     "output_type": "stream",
     "text": [
      "10\n"
     ]
    }
   ],
   "source": [
    "# 11050 이항 계수 1\n",
    "\n",
    "import math\n",
    "\n",
    "a, b = map(int, input().split())\n",
    "\n",
    "def bino_coef_factorial(n, k):\n",
    "\treturn math.factorial(n) // (math.factorial(n-k) * math.factorial(k))\n",
    "\n",
    "print(bino_coef_factorial(a, b))"
   ]
  },
  {
   "cell_type": "code",
   "execution_count": 31,
   "metadata": {},
   "outputs": [
    {
     "name": "stdout",
     "output_type": "stream",
     "text": [
      "999999901\n"
     ]
    }
   ],
   "source": [
    "# 2869 달팽이는 올라가고 싶다.\n",
    "\n",
    "a, b, v = map(int, input().split())\n",
    "\n",
    "if ((v - b) % (a - b) == 0):\n",
    "    result = (v - b) // (a - b)\n",
    "elif ((v - b) % (a - b) != 0):\n",
    "    result = (v - b) // (a - b) + 1\n",
    "\n",
    "print(result)"
   ]
  },
  {
   "cell_type": "code",
   "execution_count": null,
   "metadata": {},
   "outputs": [],
   "source": [
    "# 2908 상수\n",
    "\n",
    "a, b = input().split()\n",
    "\n",
    "num1 = int(a[::-1])\n",
    "num2 = int(b[::-1])\n",
    "\n",
    "if (num1 > num2):\n",
    "    print(num1)\n",
    "else:\n",
    "    print(num2)"
   ]
  },
  {
   "cell_type": "code",
   "execution_count": 4,
   "metadata": {},
   "outputs": [
    {
     "name": "stdout",
     "output_type": "stream",
     "text": [
      "1\n"
     ]
    }
   ],
   "source": [
    "# 27433 팩토리얼 2\n",
    "\n",
    "n = int(input())\n",
    "\n",
    "num = 1\n",
    "for i in range(1, n+1):\n",
    "    num = num * i\n",
    "\n",
    "print(num)"
   ]
  },
  {
   "cell_type": "code",
   "execution_count": 8,
   "metadata": {},
   "outputs": [
    {
     "name": "stdout",
     "output_type": "stream",
     "text": [
      "1111111111111111111111111110\n"
     ]
    }
   ],
   "source": [
    "# 15740 A + B 9\n",
    "\n",
    "a, b = map(int, input().split())\n",
    "\n",
    "print(a+b)"
   ]
  },
  {
   "cell_type": "code",
   "execution_count": 12,
   "metadata": {},
   "outputs": [
    {
     "name": "stdout",
     "output_type": "stream",
     "text": [
      "750\n"
     ]
    }
   ],
   "source": [
    "# 5543 상근날드\n",
    "\n",
    "bug1 = int(input())\n",
    "bug2 = int(input())\n",
    "bug3 = int(input())\n",
    "drink1 = int(input())\n",
    "drink2 = int(input())\n",
    "\n",
    "if (bug1 < bug2 and bug1 < bug3):\n",
    "    pick_bug = bug1\n",
    "elif (bug2 < bug1 and bug2 < bug3):\n",
    "    pick_bug = bug2\n",
    "elif (bug3 < bug1 and bug3 < bug2):\n",
    "    pick_bug = bug3\n",
    "\n",
    "if (drink1 < drink2):\n",
    "    pick_drink = drink1\n",
    "else:\n",
    "    pick_drink = drink2\n",
    "\n",
    "print(pick_bug + pick_drink - 50)"
   ]
  },
  {
   "cell_type": "code",
   "execution_count": null,
   "metadata": {},
   "outputs": [
    {
     "name": "stdout",
     "output_type": "stream",
     "text": [
      "1\n",
      "1\n",
      "1\n",
      "2\n",
      "2\n",
      "3\n",
      "3\n",
      "5\n",
      "6\n",
      "7\n"
     ]
    }
   ],
   "source": [
    "# 10989 수 정렬하기 3\n",
    "\n",
    "n = int(input())\n",
    "\n",
    "num_list = []\n",
    "for i in range(n):\n",
    "    num = int(input())\n",
    "    num_list.append(num)\n",
    "\n",
    "# num_list.sort() 리스트 sort는 메모리가 많이 차지함\n",
    "for j in range(len(num_list)):\n",
    "    print(num_list[j])"
   ]
  },
  {
   "cell_type": "code",
   "execution_count": 4,
   "metadata": {},
   "outputs": [
    {
     "name": "stdout",
     "output_type": "stream",
     "text": [
      "1\n",
      "2\n",
      "3\n",
      "3\n",
      "4\n",
      "4\n",
      "5\n",
      "5\n",
      "7\n",
      "7\n"
     ]
    }
   ],
   "source": [
    "n = int(input())\n",
    "\n",
    "arr = []\n",
    "for i in range(n):\n",
    "    num = int(input())\n",
    "    arr.append(num)\n",
    "\n",
    "count = [0] * (max(arr) + 1)\n",
    "\n",
    "for num in arr:\n",
    "    count[num] += 1\n",
    "    \n",
    "for i in range(1, len(count)):\n",
    "    count[i] += count[i-1]\n",
    "\n",
    "result = [0] * (len(arr))\n",
    "\n",
    "for num in arr:\n",
    "    idx = count[num]\n",
    "    result[idx - 1] = num\n",
    "    count[num] -= 1\n",
    "\n",
    "for el in result:\n",
    "    print(el)"
   ]
  },
  {
   "cell_type": "code",
   "execution_count": null,
   "metadata": {},
   "outputs": [
    {
     "name": "stdout",
     "output_type": "stream",
     "text": [
      "3\n"
     ]
    }
   ],
   "source": [
    "# 27961 고양이는 많을수록 좋다\n",
    "\n",
    "import sys\n",
    "input = sys.stdin.readline\n",
    "\n",
    "N = int(input())\n",
    "\n",
    "def cat(N):\n",
    "    magic_count = 0 # 마법 사용 횟수\n",
    "    cat_num = 1 # 고양이 수(처음엔 무조건 생성이기에 1마리에서 시작)\n",
    "    \n",
    "    while (N > cat_num): # 고양이를 2배 복제하면서, 범위 내에 존재할 경우 stop\n",
    "        cat_num *= 2\n",
    "        magic_count += 1\n",
    "\n",
    "    return magic_count + 1 if N <= cat_num else magic_count + 1 # 복제 횟수 + 처음 생성 횟수\n",
    "\n",
    "print(cat(N) if N != 0 else 0)"
   ]
  }
 ],
 "metadata": {
  "kernelspec": {
   "display_name": "base",
   "language": "python",
   "name": "python3"
  },
  "language_info": {
   "codemirror_mode": {
    "name": "ipython",
    "version": 3
   },
   "file_extension": ".py",
   "mimetype": "text/x-python",
   "name": "python",
   "nbconvert_exporter": "python",
   "pygments_lexer": "ipython3",
   "version": "3.12.7"
  }
 },
 "nbformat": 4,
 "nbformat_minor": 2
}
