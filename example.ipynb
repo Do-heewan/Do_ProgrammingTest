{
 "cells": [
  {
   "cell_type": "markdown",
   "metadata": {},
   "source": [
    "# 1. 입력 처리"
   ]
  },
  {
   "cell_type": "code",
   "execution_count": 1,
   "metadata": {},
   "outputs": [],
   "source": [
    "W = input() # 문자열 입력\n",
    "N = int(input()) # 정수 입력\n",
    "\n",
    "a, b = map(int, input().split()) # 공백을 기준으로 나누어 정수 저장. ex) 10 2 입력시 a=10, b=2\n",
    "num_list = list(map(int, input().split())) # 공백을 기준으로 나누어 리스트로 만들어 저장\n",
    "\n",
    "# sys 모듈 사용\n",
    "import sys\n",
    "input = sys.stdin.readline"
   ]
  },
  {
   "cell_type": "markdown",
   "metadata": {},
   "source": [
    "# 2. 컴프리헨션 (Comprehension)"
   ]
  },
  {
   "cell_type": "code",
   "execution_count": 6,
   "metadata": {},
   "outputs": [
    {
     "data": {
      "text/plain": [
       "[0, 0, 0]"
      ]
     },
     "execution_count": 6,
     "metadata": {},
     "output_type": "execute_result"
    }
   ],
   "source": [
    "# 리스트 초기화 예시\n",
    "# 1차원 리스트\n",
    "N = 3\n",
    "M = 2\n",
    "\n",
    "dim_1 = [0] * N\n",
    "dim_1 = [0 for _ in range(N)]\n",
    "dim_1"
   ]
  },
  {
   "cell_type": "code",
   "execution_count": 9,
   "metadata": {},
   "outputs": [
    {
     "data": {
      "text/plain": [
       "[[0, 0, 0], [0, 0, 0]]"
      ]
     },
     "execution_count": 9,
     "metadata": {},
     "output_type": "execute_result"
    }
   ],
   "source": [
    "# 2차원 리스트\n",
    "dim_2 = [[0] * N] * M\n",
    "dim_2 = [[0] * M for _ in range(N)] # 컴프리헨션\n",
    "dim_2 = [[0 for _ in range(N)] for _ in range(M)]\n",
    "dim_2"
   ]
  },
  {
   "cell_type": "code",
   "execution_count": 4,
   "metadata": {},
   "outputs": [
    {
     "data": {
      "text/plain": [
       "[0, 1, 2, 3, 4, 5, 6, 7, 8, 9]"
      ]
     },
     "execution_count": 4,
     "metadata": {},
     "output_type": "execute_result"
    }
   ],
   "source": [
    "# 반복문을 이용한 리스트 생성\n",
    "li = [i for i in range(10)]\n",
    "li"
   ]
  },
  {
   "cell_type": "code",
   "execution_count": 5,
   "metadata": {},
   "outputs": [
    {
     "name": "stdout",
     "output_type": "stream",
     "text": [
      "b가 더 큽니다.\n",
      "b가 더 큽니다.\n"
     ]
    }
   ],
   "source": [
    "# if 조건문 예시\n",
    "a = 10\n",
    "b = 15\n",
    "\n",
    "if (a > b):\n",
    "    print(\"a가 더 큽니다.\")\n",
    "else:\n",
    "    print(\"b가 더 큽니다.\")\n",
    "    \n",
    "# 컴프리헨션\n",
    "print(\"a가 더 큽니다.\" if a > b else \"b가 더 큽니다.\")"
   ]
  },
  {
   "cell_type": "markdown",
   "metadata": {},
   "source": [
    "# 3. 시간 복잡도 계산"
   ]
  },
  {
   "cell_type": "markdown",
   "metadata": {},
   "source": [
    "# 4. 표준 라이브러리"
   ]
  }
 ],
 "metadata": {
  "kernelspec": {
   "display_name": "base",
   "language": "python",
   "name": "python3"
  },
  "language_info": {
   "codemirror_mode": {
    "name": "ipython",
    "version": 3
   },
   "file_extension": ".py",
   "mimetype": "text/x-python",
   "name": "python",
   "nbconvert_exporter": "python",
   "pygments_lexer": "ipython3",
   "version": "3.12.7"
  }
 },
 "nbformat": 4,
 "nbformat_minor": 2
}
